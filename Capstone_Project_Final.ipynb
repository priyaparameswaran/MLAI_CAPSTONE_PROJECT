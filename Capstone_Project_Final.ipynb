{
  "cells": [
    {
      "cell_type": "code",
      "execution_count": 33,
      "metadata": {
        "id": "6b1Z9vVkWpTB"
      },
      "outputs": [],
      "source": [
        "import numpy as np\n",
        "import pandas as pd\n",
        "import cv2\n",
        "import matplotlib.pyplot as plt"
      ]
    },
    {
      "cell_type": "code",
      "source": [
        "import tensorflow as tf"
      ],
      "metadata": {
        "id": "8f1pYJpyJSCv"
      },
      "execution_count": 3,
      "outputs": []
    },
    {
      "cell_type": "code",
      "source": [
        "### \n",
        "from pydrive.auth import GoogleAuth\n",
        "from pydrive.drive import GoogleDrive\n",
        "from google.colab import auth\n",
        "from oauth2client.client import GoogleCredentials\n",
        "\n",
        "auth.authenticate_user()\n",
        "gauth = GoogleAuth()\n",
        "gauth.credentials = GoogleCredentials.get_application_default()\n",
        "my_drive = GoogleDrive(gauth)\n",
        "\n",
        "### delete gdrive trash files (keras checkpoint files can accumulate in trash) [[2023-06-03]]-0922-27\n",
        "def clear_gdrive_trash():\n",
        "    count=0\n",
        "    # for a_file in my_drive.ListFile({'q': \"title contains 'ckpt' and trashed = true\"}).GetList():\n",
        "    for a_file in my_drive.ListFile({'q': \"trashed = true\"}).GetList():\n",
        "        count+=1\n",
        "        # print the name of the file being deleted.\n",
        "        pass\n",
        "        # print(a_file['title'])\n",
        "        print(f'the file {a_file[\"title\"]}, is about to get deleted permanently.')\n",
        "        # delete the file permanently.\n",
        "        a_file.Delete()\n",
        "    print(count)\n",
        "clear_gdrive_trash()"
      ],
      "metadata": {
        "id": "CaF97xgrROja",
        "colab": {
          "base_uri": "https://localhost:8080/"
        },
        "outputId": "7d9f6f16-0459-4193-eae0-c838affc719b"
      },
      "execution_count": 4,
      "outputs": [
        {
          "output_type": "stream",
          "name": "stdout",
          "text": [
            "0\n"
          ]
        }
      ]
    },
    {
      "cell_type": "code",
      "source": [],
      "metadata": {
        "id": "WRs1inUJTOH4"
      },
      "execution_count": 4,
      "outputs": []
    },
    {
      "cell_type": "code",
      "source": [],
      "metadata": {
        "id": "92fEzqugSTNT"
      },
      "execution_count": 4,
      "outputs": []
    },
    {
      "cell_type": "code",
      "execution_count": 4,
      "metadata": {
        "id": "iyRb7DBlwm1V"
      },
      "outputs": [],
      "source": []
    },
    {
      "cell_type": "code",
      "execution_count": 5,
      "metadata": {
        "id": "Tf8HoW0bx9Z5",
        "colab": {
          "base_uri": "https://localhost:8080/"
        },
        "outputId": "53aaa66c-f6f1-4cda-f318-9d8b7cb02633"
      },
      "outputs": [
        {
          "output_type": "stream",
          "name": "stdout",
          "text": [
            "Mounted at /content/drive\n"
          ]
        }
      ],
      "source": [
        "### to mount google drive\n",
        "from google.colab import drive \n",
        "drive.mount('/content/drive')\n"
      ]
    },
    {
      "cell_type": "code",
      "execution_count": 6,
      "metadata": {
        "id": "zIxT89lJx9iR"
      },
      "outputs": [],
      "source": [
        "### to download the dataset from kaggle\n",
        "# !pip install kaggle\n",
        "# ! mkdir ~/.kaggle\n",
        "# ! cp '/content/drive/MyDrive/kaggle.json' ~/.kaggle\n",
        "# ! chmod 600 ~/.kaggle/kaggle.json\n",
        "# ! kaggle datasets download shyambhu/hands-and-palm-images-dataset\n",
        "\n",
        "# ! mkdir /content/drive/MyDrive/ML-AI_capstone_project\n",
        "# ! mkdir /content/drive/MyDrive/ML-AI_capstone_project/hands_dataset_Afifi/\n",
        "\n",
        "# ### to copy the downloaded dataset to drive ; so that afterwards the dataset can be copied from drive instead of downloading from kaggle everytime.\n",
        "# ! cp \"/content/hands-and-palm-images-dataset.zip\" \"/content/drive/MyDrive/ML-AI_capstone_project/hands_dataset_Afifi/\"\n",
        "\n"
      ]
    },
    {
      "cell_type": "code",
      "source": [
        "! mkdir '/content/drive/MyDrive/ML-AI_capstone_project/models'"
      ],
      "metadata": {
        "colab": {
          "base_uri": "https://localhost:8080/"
        },
        "id": "rF_r6867meOG",
        "outputId": "a8d4ec7c-1686-4cc1-aa15-564d78dc87c8"
      },
      "execution_count": 7,
      "outputs": [
        {
          "output_type": "stream",
          "name": "stdout",
          "text": [
            "mkdir: cannot create directory ‘/content/drive/MyDrive/ML-AI_capstone_project/models’: File exists\n"
          ]
        }
      ]
    },
    {
      "cell_type": "code",
      "source": [
        "drive_project_folder_path='/content/drive/MyDrive/ML-AI_capstone_project'"
      ],
      "metadata": {
        "id": "zTR31jaBDWrN"
      },
      "execution_count": 8,
      "outputs": []
    },
    {
      "cell_type": "code",
      "execution_count": 9,
      "metadata": {
        "id": "-DHrc43px9ps"
      },
      "outputs": [],
      "source": [
        "### to copy the dataset zip file from drive to colab filesystem\n",
        "! cp \"/content/drive/MyDrive/ML-AI_capstone_project/hands_dataset_Afifi/hands-and-palm-images-dataset.zip\" \"/content/hands-and-palm-images-dataset.zip\""
      ]
    },
    {
      "cell_type": "code",
      "execution_count": 10,
      "metadata": {
        "id": "jgJUTBUmx9yf"
      },
      "outputs": [],
      "source": [
        "!unzip hands-and-palm-images-dataset.zip &> /dev/null"
      ]
    },
    {
      "cell_type": "code",
      "execution_count": 10,
      "metadata": {
        "id": "x3jKPi9fx96T"
      },
      "outputs": [],
      "source": []
    },
    {
      "cell_type": "code",
      "source": [
        "# ! du -sh \"/content/hands-and-palm-images-dataset.zip\""
      ],
      "metadata": {
        "id": "q_kVPSXUVWjd"
      },
      "execution_count": 11,
      "outputs": []
    },
    {
      "cell_type": "code",
      "source": [
        "# ! cp -r \"/content/Hands\" \"/content/drive/MyDrive/ML-AI_capstone_project/hands_dataset_Afifi\"\n",
        "# ! cp \"/content/HandInfo.csv\" \"/content/drive/MyDrive/ML-AI_capstone_project/hands_dataset_Afifi\"\n"
      ],
      "metadata": {
        "id": "C4HlxMtTVuJ6"
      },
      "execution_count": 12,
      "outputs": []
    },
    {
      "cell_type": "code",
      "source": [
        "### copying directory of images directly from drive is slower that copying the zip file and then unziping [[2023-06-03]]-0924-45\n",
        "\n",
        "# ! cp -r \"/content/drive/MyDrive/ML-AI_capstone_project/hands_dataset_Afifi/Hands\" \"/content/Hands2\"\n",
        "# ! cp \"/content/drive/MyDrive/ML-AI_capstone_project/hands_dataset_Afifi/HandInfo.csv\" \"/content/HandInfo.csv\""
      ],
      "metadata": {
        "id": "M-MWBRKjW1fg"
      },
      "execution_count": 13,
      "outputs": []
    },
    {
      "cell_type": "code",
      "execution_count": 14,
      "metadata": {
        "id": "VB_xD1q_RNNb"
      },
      "outputs": [],
      "source": [
        " \n",
        "from tensorflow.keras.utils import image_dataset_from_directory\n"
      ]
    },
    {
      "cell_type": "code",
      "execution_count": 15,
      "metadata": {
        "colab": {
          "base_uri": "https://localhost:8080/"
        },
        "id": "p_FZqi2NFznk",
        "outputId": "f52b38ec-be30-4b29-8fb1-c8e6f469cded"
      },
      "outputs": [
        {
          "output_type": "stream",
          "name": "stdout",
          "text": [
            "<class 'pandas.core.frame.DataFrame'>\n",
            "RangeIndex: 11076 entries, 0 to 11075\n",
            "Data columns (total 9 columns):\n",
            " #   Column          Non-Null Count  Dtype \n",
            "---  ------          --------------  ----- \n",
            " 0   id              11076 non-null  int64 \n",
            " 1   age             11076 non-null  int64 \n",
            " 2   gender          11076 non-null  object\n",
            " 3   skinColor       11076 non-null  object\n",
            " 4   accessories     11076 non-null  int64 \n",
            " 5   nailPolish      11076 non-null  int64 \n",
            " 6   aspectOfHand    11076 non-null  object\n",
            " 7   imageName       11076 non-null  object\n",
            " 8   irregularities  11076 non-null  int64 \n",
            "dtypes: int64(5), object(4)\n",
            "memory usage: 778.9+ KB\n"
          ]
        }
      ],
      "source": [
        "import pandas as pd\n",
        "dataset_dir_path='/content/Hands/Hands'\n",
        "df=pd.read_csv('HandInfo.csv')\n",
        "df.info()"
      ]
    },
    {
      "cell_type": "code",
      "execution_count": 15,
      "metadata": {
        "id": "UzEKpfyQFpNe"
      },
      "outputs": [],
      "source": []
    },
    {
      "cell_type": "code",
      "execution_count": 15,
      "metadata": {
        "id": "2EyaBMQeC4VT"
      },
      "outputs": [],
      "source": []
    },
    {
      "cell_type": "code",
      "execution_count": 15,
      "metadata": {
        "id": "6vKWu2oYWNrs"
      },
      "outputs": [],
      "source": []
    },
    {
      "cell_type": "markdown",
      "source": [
        "### EDA "
      ],
      "metadata": {
        "id": "evdy3llVA4-v"
      }
    },
    {
      "cell_type": "code",
      "execution_count": 16,
      "metadata": {
        "id": "Ymt1x9-pyx9w"
      },
      "outputs": [],
      "source": [
        "# df"
      ]
    },
    {
      "cell_type": "code",
      "execution_count": 16,
      "metadata": {
        "id": "0dCsDHX1Wn-5"
      },
      "outputs": [],
      "source": []
    },
    {
      "cell_type": "code",
      "execution_count": 17,
      "metadata": {
        "id": "NWmud2ylBaCf"
      },
      "outputs": [],
      "source": [
        "\n",
        "## waste\n",
        "# def get_raw_image(dataset_dir_path):\n",
        "#     full_img_np =cv2.imread(f'{dataset_dir_path}/Hand_0000002.jpg')\n",
        "#     return full_img_np.shape"
      ]
    },
    {
      "cell_type": "code",
      "source": [
        "df.info()"
      ],
      "metadata": {
        "colab": {
          "base_uri": "https://localhost:8080/"
        },
        "id": "5_YAZ3Q3eZtE",
        "outputId": "1b03aba7-8c40-49c7-e3fc-d460ff887272"
      },
      "execution_count": 18,
      "outputs": [
        {
          "output_type": "stream",
          "name": "stdout",
          "text": [
            "<class 'pandas.core.frame.DataFrame'>\n",
            "RangeIndex: 11076 entries, 0 to 11075\n",
            "Data columns (total 9 columns):\n",
            " #   Column          Non-Null Count  Dtype \n",
            "---  ------          --------------  ----- \n",
            " 0   id              11076 non-null  int64 \n",
            " 1   age             11076 non-null  int64 \n",
            " 2   gender          11076 non-null  object\n",
            " 3   skinColor       11076 non-null  object\n",
            " 4   accessories     11076 non-null  int64 \n",
            " 5   nailPolish      11076 non-null  int64 \n",
            " 6   aspectOfHand    11076 non-null  object\n",
            " 7   imageName       11076 non-null  object\n",
            " 8   irregularities  11076 non-null  int64 \n",
            "dtypes: int64(5), object(4)\n",
            "memory usage: 778.9+ KB\n"
          ]
        }
      ]
    },
    {
      "cell_type": "code",
      "source": [
        "# df.duplicated().sum() ## get number of duplicate rows"
      ],
      "metadata": {
        "id": "ZY9lPxJ_ejzC"
      },
      "execution_count": 19,
      "outputs": []
    },
    {
      "cell_type": "code",
      "source": [
        "# df.drop(['imageName','id'],axis=1).mode() ### most common categories"
      ],
      "metadata": {
        "id": "vb0WDksWfH7y"
      },
      "execution_count": 20,
      "outputs": []
    },
    {
      "cell_type": "code",
      "source": [
        "from IPython.display import display, HTML\n"
      ],
      "metadata": {
        "id": "f-CrQJabie3e"
      },
      "execution_count": 21,
      "outputs": []
    },
    {
      "cell_type": "code",
      "source": [
        "def display_histograms_subplots(df):\n",
        "    value_counts_dict={}\n",
        "    cols_to_exclude=['imageName','id']\n",
        "    plt.figure(figsize=(10,10)).tight_layout(h_pad=2)\n",
        "    count=0\n",
        "    for col_name in df.columns.to_list():\n",
        "        if col_name not in cols_to_exclude:\n",
        "            value_counts_dict[col_name]=df[col_name].value_counts()\n",
        "            print(f'value_counts of {col_name} ',value_counts_dict[col_name])\n",
        "            count+=1\n",
        "            plt.subplot(3,3,count)\n",
        "            plt.gca().set_title(col_name)\n",
        "            df[col_name].hist()\n",
        "            # if col_name in ['age']:\n",
        "            #     plt.figure()\n",
        "            #     plt.title(col_name)\n",
        "            #     plt.boxplot(df[col_name].to_list())\n",
        "        # display(value_counts_dict[col_name])\n",
        "        # display(HTML(value_counts_dict[col_name].to_html()))\n",
        "# display_histograms_subplots(df)"
      ],
      "metadata": {
        "id": "0ISL0AId_2TK"
      },
      "execution_count": 22,
      "outputs": []
    },
    {
      "cell_type": "code",
      "source": [
        "def display_histograms(df):\n",
        "    value_counts_dict={}\n",
        "    cols_to_exclude=['imageName','id']\n",
        "    for col_name in df.columns.to_list():\n",
        "        if col_name not in cols_to_exclude:\n",
        "            value_counts_dict[col_name]=df[col_name].value_counts()\n",
        "            print(f'value_counts of {col_name} ',value_counts_dict[col_name])\n",
        "            plt.figure()\n",
        "            plt.title(col_name)\n",
        "            df[col_name].hist()\n",
        "            if col_name in ['age']:\n",
        "                plt.figure()\n",
        "                plt.title(col_name)\n",
        "                plt.boxplot(df[col_name].to_list())\n",
        "        # display(value_counts_dict[col_name])\n",
        "        # display(HTML(value_counts_dict[col_name].to_html()))\n",
        "# display_histograms(df)"
      ],
      "metadata": {
        "id": "tDwqvmFBhlyM"
      },
      "execution_count": 23,
      "outputs": []
    },
    {
      "cell_type": "code",
      "execution_count": 24,
      "metadata": {
        "id": "hyKzedSRCUQN"
      },
      "outputs": [],
      "source": [
        "# import matplotlib.pyplot as plt\n",
        "\n",
        "'''\n",
        "dataset_dir_path is path of folder with all hand images\n",
        "\n",
        "'''\n",
        "\n",
        "def display_sample_imgs_in_subplots(filenames_list,dataset_dir_path=dataset_dir_path,whole_fig_title=None, img_modify_fn=None):\n",
        "    plt.figure(figsize=(10,8.5)).tight_layout(h_pad=2)\n",
        "    # plt.figure(figsize=(10,8)).tight_layout(rect=[0, 0.03, 1, 0.7])\n",
        "\n",
        "    \n",
        "    if whole_fig_title != None:\n",
        "        plt.suptitle(whole_fig_title) ## set main figure title\n",
        "\n",
        "    if img_modify_fn == None:\n",
        "        def img_modify_fn(img):\n",
        "            return img ## if fn not specified do nothing\n",
        "\n",
        "    last_i=0\n",
        "    count=0\n",
        "    for i,filename in enumerate(filenames_list):        \n",
        "        if (i==0) or (i == last_i+18):\n",
        "            count+=1\n",
        "            last_i=i\n",
        "            plt.subplot(3,3,count)\n",
        "            image=plt.imread(f'{dataset_dir_path}/{filename}')\n",
        "            image=img_modify_fn(image)\n",
        "            plt.imshow(image)\n",
        "            plt.gca().set_title(filename) ## to set title for subplot\n",
        "            plt.axis(\"off\")\n",
        "\n",
        "        if count >= 9:\n",
        "            break\n",
        "    plt.show()\n",
        "\n",
        "\n",
        "\n",
        "\n",
        "def display_column_images(col_name_list,df=df,display_sample_imgs_in_subplots=display_sample_imgs_in_subplots):\n",
        "    '''\n",
        "    takes display_sample_imgs_in_subplots function as argument\n",
        "    '''\n",
        "    for col_name in col_name_list:\n",
        "        print(f'\\n{col_name}'.upper())\n",
        "        irreg_imgs_names_list=df[df[col_name] != 0 ]['imageName'].to_list()\n",
        "        print(df[col_name].value_counts())\n",
        "        print(f'number of images with {col_name}',len(irreg_imgs_names_list))\n",
        "        display_sample_imgs_in_subplots(irreg_imgs_names_list,whole_fig_title=col_name)\n",
        "\n",
        "\n",
        "\n"
      ]
    },
    {
      "cell_type": "code",
      "source": [
        "\n",
        "\n",
        "col_name_list=['irregularities','accessories','nailPolish']\n",
        "# df=pd.read_csv('HandInfo.csv')\n",
        "# display_column_images(col_name_list,display_sample_imgs_in_subplots=display_sample_imgs_in_subplots) ###     takes display_sample_imgs_in_subplots function as argument\n"
      ],
      "metadata": {
        "id": "Z4bkAQNdngJz"
      },
      "execution_count": 25,
      "outputs": []
    },
    {
      "cell_type": "code",
      "source": [
        "### edge map\n",
        "\n",
        "# image=cv2.imread(f'{dataset_dir_path}/Hand_0000002.jpg')\n",
        "\n",
        "# gray = cv2.cvtColor(image, cv2.COLOR_BGR2GRAY)\n",
        "# blurred = cv2.GaussianBlur(gray, (3, 3), 0)\n",
        "# wide = cv2.Canny(blurred, 10, 200)\n",
        "# mid = cv2.Canny(blurred, 30, 150)\n",
        "# tight = cv2.Canny(blurred, 240, 250)\n",
        "\n",
        "# mid.shape\n",
        "# plt.imshow(mid)\n",
        "\n",
        "def get_edge_map(image):\n",
        "    gray = cv2.cvtColor(image, cv2.COLOR_RGB2GRAY)\n",
        "    blurred = cv2.GaussianBlur(gray, (3, 3), 0)\n",
        "    wide = cv2.Canny(blurred, 10, 200)\n",
        "    mid = cv2.Canny(blurred, 30, 150)\n",
        "    tight = cv2.Canny(blurred, 240, 250)\n",
        "    return mid\n",
        "\n",
        "img_filename_list_to_plot=df['imageName'].to_list()\n",
        "# display_sample_imgs_in_subplots(img_filename_list_to_plot,whole_fig_title='EDGE MAP',img_modify_fn=get_edge_map)\n",
        "\n",
        "\n",
        "\n"
      ],
      "metadata": {
        "id": "9wIBNkAii4GR"
      },
      "execution_count": 26,
      "outputs": []
    },
    {
      "cell_type": "code",
      "source": [
        "def resize_to_reduce_male_hand_girth(img):\n",
        "    resized_img=cv2.resize(img,(1200,1000))\n",
        "    return resized_img\n",
        "\n",
        "male_img_filenames=df[ df['gender'] == 'male' ]['imageName'].to_list()\n",
        "female_img_filenames=df[ df['gender'] == 'female' ]['imageName'].to_list()\n",
        "\n",
        "# display_sample_imgs_in_subplots(male_img_filenames,whole_fig_title='reduced male hand girth',img_modify_fn=resize_to_reduce_male_hand_girth)\n",
        "# print('\\n')\n",
        "# display_sample_imgs_in_subplots(male_img_filenames,whole_fig_title='original imgs with male hand girth',img_modify_fn=None)\n",
        "# print('\\n')\n",
        "# display_sample_imgs_in_subplots(female_img_filenames,whole_fig_title='females')\n"
      ],
      "metadata": {
        "id": "sozsxOm-rXkJ"
      },
      "execution_count": 27,
      "outputs": []
    },
    {
      "cell_type": "code",
      "source": [
        "def make_img_gray(image):\n",
        "    gray = cv2.cvtColor(image, cv2.COLOR_BGR2GRAY)\n",
        "    # blurred = cv2.GaussianBlur(gray, (3, 3), 0)\n",
        "    # wide = cv2.Canny(blurred, 10, 200)\n",
        "    # mid = cv2.Canny(blurred, 30, 150)\n",
        "    # tight = cv2.Canny(blurred, 240, 250)\n",
        "    return gray\n",
        "\n",
        "img_filename_list_to_plot=df['imageName'].to_list()\n",
        "# display_sample_imgs_in_subplots(img_filename_list_to_plot,whole_fig_title='GRAYSCALE',img_modify_fn=make_img_gray)\n",
        "\n",
        "\n"
      ],
      "metadata": {
        "id": "W2DhMzjoy51W"
      },
      "execution_count": 28,
      "outputs": []
    },
    {
      "cell_type": "code",
      "source": [],
      "metadata": {
        "id": "P8jyvQ95fcQU"
      },
      "execution_count": 28,
      "outputs": []
    },
    {
      "cell_type": "markdown",
      "source": [
        "### END OF EDA"
      ],
      "metadata": {
        "id": "i_xsEeb1flfB"
      }
    },
    {
      "cell_type": "code",
      "source": [
        "\n",
        "\n",
        "\n",
        "def get_col_val_list_in_alphabetical_order_file_names_dict(dataset_dir_path,csv_df):\n",
        "\n",
        "    '''\n",
        "    this function is needed in order to make the list of target labels to give as labels argument of \n",
        "     the keras.utils.image_dataset_from_directory function. \n",
        "     The keras.utils.image_dataset_from_directory function makes a tensorflow dataset object from the images inside\n",
        "     a folder. the labels argument should be a list of target variables corresponding to images filenames as listed by\n",
        "     os.walk('dataset_directory_path') function.\n",
        "    \n",
        "    So what this function does is, to output a dictionary. The dictionary takes the column names in the HandInfo.csv as keys. \n",
        "    The value in the dictionary corresponding to the column name given as key in the dictionary, is a list,\n",
        "    containing all the rows in the csv for that single column. The thing is the the rows in this list are ordered such\n",
        "    that they correspond to the image_file in the order outputted by os.walk('dataset_directory_path').  \n",
        "\n",
        "    '''\n",
        "    df=csv_df.set_index('imageName')\n",
        "\n",
        "    from os import walk ## see https://hyp.is/DAhG1PfzEe2Qw3vXNIwQ3Q/www.tensorflow.org/api_docs/python/tf/keras/utils/image_dataset_from_directory\n",
        "    # print(list(walk(dataset_dir_path))[0][2][0])\n",
        "    img_filenames_list=list(walk(dataset_dir_path))[0][2]\n",
        "    col_val_list_in_order_file_names_dict={}\n",
        "\n",
        "\n",
        "    for col in df.columns.to_list():\n",
        "        col_val_list_in_order_file_names_dict[col]=[]\n",
        "\n",
        "        for filename in img_filenames_list:\n",
        "            \n",
        "            col_val_list_in_order_file_names_dict[col].append(df[col][filename])\n",
        "        # col_val_list_in_order_file_names_dict['gender']=df['gender'][df['imageName'][df['imageName']== filename ].index[0]]\n",
        "    return col_val_list_in_order_file_names_dict\n",
        "\n",
        "col_val_list_in_order_file_names_dict=get_col_val_list_in_alphabetical_order_file_names_dict(dataset_dir_path,csv_df=df)\n",
        "# def make_arr_of_images_and_labels():\n",
        "#     pass"
      ],
      "metadata": {
        "id": "tdoHGY6UG5KQ"
      },
      "execution_count": 29,
      "outputs": []
    },
    {
      "cell_type": "code",
      "source": [
        "### get the num of color channels in the images\n",
        "def find_num_channels_in_imgs(dataset_dir_path):\n",
        "    from os import walk ## see https://hyp.is/DAhG1PfzEe2Qw3vXNIwQ3Q/www.tensorflow.org/api_docs/python/tf/keras/utils/image_dataset_from_directory\n",
        "\n",
        "    import cv2\n",
        "    first_img_np=cv2.imread(f'{dataset_dir_path}/{list(walk(dataset_dir_path))[0][2][0]}')\n",
        "    return first_img_np.shape[-1]\n",
        "num_channels=find_num_channels_in_imgs(dataset_dir_path)"
      ],
      "metadata": {
        "id": "Hkt7OKWxHIs1"
      },
      "execution_count": 30,
      "outputs": []
    },
    {
      "cell_type": "code",
      "source": [
        "y_gen_nonenc=col_val_list_in_order_file_names_dict['gender']\n",
        " ## so that we know which is 0 and 1; male will be encoded as 0 and female 1\n",
        "\n",
        "def encode_labels(y_nonenc,categories_list):\n",
        "    from sklearn.preprocessing import OrdinalEncoder\n",
        "    y_nonenc=np.array(y_nonenc).reshape(-1,1)\n",
        "    oe=OrdinalEncoder(categories=[categories_list])\n",
        "    y_enc_np=oe.fit_transform(y_nonenc)\n",
        "    return y_enc_np\n",
        "\n",
        "y_gen_enc_np=encode_labels(y_gen_nonenc,['male','female'])\n"
      ],
      "metadata": {
        "id": "xi36rBfvG_C-"
      },
      "execution_count": 31,
      "outputs": []
    },
    {
      "cell_type": "code",
      "execution_count": 32,
      "metadata": {
        "colab": {
          "base_uri": "https://localhost:8080/",
          "height": 107
        },
        "id": "z8bzIEWbaoVX",
        "outputId": "e305dd65-3875-469c-c7c7-1e81fead5676"
      },
      "outputs": [
        {
          "output_type": "execute_result",
          "data": {
            "text/plain": [
              "\"\\nfrom glob2 import glob\\n\\nx_files = glob('inputs/*.jpg')\\ny_files = glob('targets/*.jpg')\\n\\nfiles_ds = tf.data.Dataset.from_tensor_slices((x_files, y_files))\\n\\ndef process_img(file_path):\\n    img = tf.io.read_file(file_path)\\n    img = tf.image.decode_jpeg(img, channels=3)\\n    img = tf.image.convert_image_dtype(img, tf.float32)\\n    img = tf.image.resize(img, size=(28, 28))\\n    return img\\n\\nfiles_ds = files_ds.map(lambda x, y: (process_img(x), process_img(y))).batch(1)\\n\\noriginal, target = next(iter(files_ds))\\n\""
            ],
            "application/vnd.google.colaboratory.intrinsic+json": {
              "type": "string"
            }
          },
          "metadata": {},
          "execution_count": 32
        }
      ],
      "source": [
        "### trying to create tensorflow image dataset the way i want; generators are too slow \n",
        "### check the training speed by using the following; after modifying it of course\n",
        "'''\n",
        "from glob2 import glob\n",
        "\n",
        "x_files = glob('inputs/*.jpg')\n",
        "y_files = glob('targets/*.jpg')\n",
        "\n",
        "files_ds = tf.data.Dataset.from_tensor_slices((x_files, y_files))\n",
        "\n",
        "def process_img(file_path):\n",
        "    img = tf.io.read_file(file_path)\n",
        "    img = tf.image.decode_jpeg(img, channels=3)\n",
        "    img = tf.image.convert_image_dtype(img, tf.float32)\n",
        "    img = tf.image.resize(img, size=(28, 28))\n",
        "    return img\n",
        "\n",
        "files_ds = files_ds.map(lambda x, y: (process_img(x), process_img(y))).batch(1)\n",
        "\n",
        "original, target = next(iter(files_ds))\n",
        "'''"
      ]
    },
    {
      "cell_type": "code",
      "execution_count": 34,
      "metadata": {
        "colab": {
          "base_uri": "https://localhost:8080/"
        },
        "id": "paLFAPrARNQB",
        "outputId": "33f978aa-41f6-4e70-e613-4ff6d123e5f6"
      },
      "outputs": [
        {
          "output_type": "stream",
          "name": "stdout",
          "text": [
            "Found 11076 files belonging to 2 classes.\n",
            "Using 8861 files for training.\n",
            "Using 2215 files for validation.\n"
          ]
        }
      ],
      "source": [
        "img_resize_shape=(240,320)\n",
        "img_size_tuple=(img_resize_shape[0],img_resize_shape[1],num_channels)\n",
        "\n",
        "test_fraction=0.2\n",
        "seed=12\n",
        "'''\n",
        "The keras.utils.image_dataset_from_directory function makes a tensorflow dataset object from the images inside\n",
        "a folder. \n",
        "see https://www.tensorflow.org/api_docs/python/tf/keras/utils/image_dataset_from_directory\n",
        " the labels argument should be a list of target variables corresponding to images filenames as listed by\n",
        "os.walk('dataset_directory_path') function.\n",
        "'''\n",
        "\n",
        "train_img_set_tfds, test_img_set_tfds=image_dataset_from_directory(\n",
        "    dataset_dir_path,\n",
        "    labels=y_gen_enc_np.flatten().tolist(),\n",
        "    # labels=None,\n",
        "\n",
        "    validation_split=test_fraction,\n",
        "    subset='both',\n",
        "    seed=seed,\n",
        "    image_size=img_resize_shape,\n",
        "    batch_size=8\n",
        "    )\n",
        "\n",
        "small_train=train_img_set_tfds.take(400)"
      ]
    },
    {
      "cell_type": "code",
      "source": [],
      "metadata": {
        "id": "6C8N7HEJWq9Y"
      },
      "execution_count": null,
      "outputs": []
    },
    {
      "cell_type": "code",
      "source": [
        "# small_train.cardinality().numpy()"
      ],
      "metadata": {
        "id": "olASlj5GYjQh"
      },
      "execution_count": null,
      "outputs": []
    },
    {
      "cell_type": "code",
      "source": [
        "# small_train=small_train.unbatch()\n",
        "# small_train.cardinality().numpy()\n",
        "# "
      ],
      "metadata": {
        "id": "kLfJN-O7ZBEb"
      },
      "execution_count": null,
      "outputs": []
    },
    {
      "cell_type": "code",
      "execution_count": null,
      "metadata": {
        "id": "VVfdzokoQfWA",
        "colab": {
          "base_uri": "https://localhost:8080/"
        },
        "outputId": "3a3e62b9-92fa-4833-db20-e5f0b85e6b1e"
      },
      "outputs": [
        {
          "output_type": "stream",
          "name": "stdout",
          "text": [
            "(8, 240, 320, 3)\n",
            "[0. 1. 0. 1. 1. 1. 0. 0.]\n"
          ]
        }
      ],
      "source": [
        "# ## checking if the contents of the tensorflow dataset obj are images as intended\n",
        "count=0\n",
        "for i,j in small_train:\n",
        "    count+=1\n",
        "    if count==1:\n",
        "        print(i.numpy().shape)\n",
        "        print(j.numpy())\n",
        "\n",
        "    else:\n",
        "        break\n",
        "# print(count)\n",
        "        \n",
        "        \n"
      ]
    },
    {
      "cell_type": "code",
      "execution_count": null,
      "metadata": {
        "id": "LpM-3z5L2Y_A"
      },
      "outputs": [],
      "source": [
        "from tensorflow.keras import Model\n",
        "from tensorflow.keras.models import Sequential\n",
        "from tensorflow.keras.layers import Flatten, Input, Dense, concatenate, Conv2D, MaxPooling2D, Dropout, Rescaling, RandomFlip, RandomRotation"
      ]
    },
    {
      "cell_type": "code",
      "source": [
        "!pip install keras_cv &> /dev/null\n",
        "import keras_cv\n"
      ],
      "metadata": {
        "id": "fntLM4A4E6Fj"
      },
      "execution_count": null,
      "outputs": []
    },
    {
      "cell_type": "code",
      "execution_count": null,
      "metadata": {
        "id": "qrWBrnNgjFTA"
      },
      "outputs": [],
      "source": [
        "# import matplotlib.pyplot as plt\n",
        "# len(train_img_set_tfds.take(1))\n",
        "# # plt.figure(figsize=(10, 10))\n",
        "# for image,label in train_img_set_tfds.take(1):\n",
        "#     plt.imshow(image.numpy().astype('uint8'))\n",
        "#     plt.title(int(label))\n",
        "#     plt.axis('off')"
      ]
    },
    {
      "cell_type": "code",
      "execution_count": null,
      "metadata": {
        "colab": {
          "base_uri": "https://localhost:8080/"
        },
        "id": "UHq_WHl5iVu3",
        "outputId": "aae2eb2e-eaed-450e-8b66-89261083b4ac"
      },
      "outputs": [
        {
          "output_type": "stream",
          "name": "stdout",
          "text": [
            "(240, 320, 3)\n"
          ]
        }
      ],
      "source": [
        "img_size_tuple=(img_resize_shape[0],img_resize_shape[1],num_channels)\n",
        "\n",
        "print(img_size_tuple )"
      ]
    },
    {
      "cell_type": "code",
      "execution_count": null,
      "metadata": {
        "id": "-KPKsU3wiNAR"
      },
      "outputs": [],
      "source": [
        "import tensorflow.keras as keras"
      ]
    },
    {
      "cell_type": "code",
      "execution_count": null,
      "metadata": {
        "id": "sZ26MttX6vu5"
      },
      "outputs": [],
      "source": [
        "img_size_tuple=(img_resize_shape[0],img_resize_shape[1],num_channels)\n",
        "\n",
        "\n",
        "def build_img_net(img_size_tuple):\n",
        "    input_layer=Input(shape=img_size_tuple )\n",
        "\n",
        "    ## to convert images to grayscale\n",
        "    # import keras_cv\n",
        "    # keras_cv.layers.Grayscale(output_channels=1) ## see https://keras.io/api/keras_cv/layers/preprocessing/grayscale/\n",
        "\n",
        "\n",
        "    data_augmentation = Sequential( ### see https://keras.io/api/layers/preprocessing_layers/image_augmentation/\n",
        "        [\n",
        "            RandomFlip(\"horizontal\"),\n",
        "            RandomRotation(0.1),\n",
        "            # keras.layers.RandomCrop( height=120,width=100) ## not good might cut off fingers when cropping\n",
        "            # keras.layers.RandomZoom(height=(-0.3,0.3)) ## won't help in basic learning ; required only when trying to learn random internet images\n",
        "\n",
        "        ]\n",
        "    ) ## see https://keras.io/examples/vision/image_classification_from_scratch/\n",
        "    x=data_augmentation(input_layer)\n",
        "    x = Rescaling(1./255)(x)\n",
        "\n",
        "\n",
        "\n",
        "    conv_nodes=(16,32,64)\n",
        "    ##see  https://pyimagesearch.com/2019/02/04/keras-multiple-inputs-and-mixed-data/\n",
        "    for f in conv_nodes:\n",
        "        x= Conv2D(f, (3, 3), padding=\"same\",activation='relu')(x)\n",
        "        # x = Activation(\"relu\")(x)\n",
        "        # x = BatchNormalization(axis=chanDim)(x)\n",
        "        x= MaxPooling2D(pool_size=(2, 2))(x)\n",
        "        # x= Dropout(0.2)(x)\n",
        "    x= Flatten()(x)\n",
        "    x = Dense(32,activation='relu')(x)\n",
        "\n",
        "    x= Dense(16,activation='relu')(x)\n",
        "\n",
        "    x =Dense(4,activation='relu')(x)\n",
        "    img_net=Model(inputs=[input_layer],outputs=x)\n",
        "    return img_net \n",
        "\n",
        "# img_size_tuple=(img_resize_shape[0],img_resize_shape[1],num_channels)\n",
        "# img_net=build_img_net(img_size_tuple)\n",
        "\n",
        "### RESNET\n",
        "\n",
        "def make_resnet(img_size_tuple):\n",
        "    input_layer=Input(shape=img_size_tuple )\n",
        "    # resnet_model = keras.applications.resnet50.ResNet50(weights= 'imagenet', include_top=False, input_shape= img_size_tuple)\n",
        "    # inputs = keras.Input(shape=input_shape)\n",
        "    x = Rescaling(1.0 / 255)(input_layer)  # Rescale inputs\n",
        "\n",
        "    x = keras_cv.layers.Grayscale()(x) ## [[2023-06-03]]-1222-23\n",
        "    \n",
        "    # resnet_model = keras.applications.resnet50.ResNet50(weights= 'imagenet', include_top=False, input_shape= img_size_tuple)\n",
        "    # resnet_model = keras.applications.resnet50.ResNet50(weights= 'imagenet', input_tensor=x ,include_top=False)\n",
        "    resnet_model = keras.applications.resnet50.ResNet50(weights= None, input_tensor=x ,include_top=False) ## try None weights [[2023-06-03]]-0934-50 \n",
        "\n",
        "    x= resnet_model.output\n",
        "    x=Flatten()(x)\n",
        "    ### keeping no. of dense nodes as square roots of previous layer nodes as suggested in pyimagesearch article [[2023-05-29]]-1934-06 \n",
        "    x=Dropout(0.4)(x)\n",
        "    # x= Dense(512,activation='relu',name='dense512_arjun')(x)\n",
        "    x= Dense(512,name='dense512_arjun')(x)\n",
        "\n",
        "    x=keras.layers.Activation('relu')(x) \n",
        "    x=Dropout(0.1)(x)\n",
        "    x= Dense(25,name='dense25_arjun')(x) \n",
        "    x=keras.layers.Activation('relu')(x) \n",
        " \n",
        "    x= Dense(10,name='dense10_arjun')(x)\n",
        "    x=keras.layers.Activation('relu')(x) \n",
        " \n",
        "\n",
        "    \n",
        "    # x = keras.layers.GlobalAveragePooling2D()(x) ## got these layers from dwivedi github code\n",
        "    # x = keras.layers.Dropout(0.7)(x)\n",
        "    model = Model(inputs= input_layer , outputs=x)\n",
        "    return model\n",
        "\n",
        "# resnet_model = keras.applications.resnet50.ResNet50(weights= 'imagenet', include_top=False, input_shape= img_size_tuple)\n",
        "\n",
        "\n",
        "input_nets=[make_resnet(img_size_tuple)]\n",
        "# input_nets=[resnet_model]\n",
        "\n",
        "\n",
        "def make_final_keras_model(inputs_nets:list):\n",
        "    ## this function is intended to combine one net that takes image\n",
        "    ## as input and another that takes the metadata from the csv as input, together to form one single \n",
        "    ## neural net\n",
        "\n",
        "    ## but for now let's just try with the image net only\n",
        "    x=input_nets[0].output\n",
        "    # x = keras.layers.GlobalAveragePooling2D()(x)\n",
        "    # x = keras.layers.Dropout(0.7)(x)\n",
        "    # x= Dense(1,activation='sigmoid',name='dense1sig')(x) ## output layer to predict gender \n",
        "    x= Dense(1,name='dense1sig')(x) ## output layer to predict gender \n",
        "    x=keras.layers.Activation('sigmoid')(x) ## output layer to predict gender \n",
        "\n",
        "    final_model= Model(inputs=input_nets[0].input,outputs=x)\n",
        "    return final_model\n",
        "\n",
        "\n",
        "\n",
        "\n",
        "final_model=make_final_keras_model(input_nets)\n",
        "\n",
        "# from tensorflow.keras.utils import plot_model\n",
        "# plot_model(final_model, show_shapes=True)"
      ]
    },
    {
      "cell_type": "code",
      "source": [
        "# |! du -sh /content/drive/MyDrive/ML-AI_capstone_project/models | awk '{print $1}'"
      ],
      "metadata": {
        "id": "NsExhGeTeLxT"
      },
      "execution_count": null,
      "outputs": []
    },
    {
      "cell_type": "code",
      "source": [
        "final_model.summary()"
      ],
      "metadata": {
        "id": "YQP3Rji81LGC",
        "colab": {
          "base_uri": "https://localhost:8080/"
        },
        "outputId": "f68f774e-5c40-4cad-affa-cca696e738ea"
      },
      "execution_count": null,
      "outputs": [
        {
          "output_type": "stream",
          "name": "stdout",
          "text": [
            "Model: \"model_1\"\n",
            "__________________________________________________________________________________________________\n",
            " Layer (type)                   Output Shape         Param #     Connected to                     \n",
            "==================================================================================================\n",
            " input_1 (InputLayer)           [(None, 240, 320, 3  0           []                               \n",
            "                                )]                                                                \n",
            "                                                                                                  \n",
            " rescaling (Rescaling)          (None, 240, 320, 3)  0           ['input_1[0][0]']                \n",
            "                                                                                                  \n",
            " grayscale (Grayscale)          (None, 240, 320, 1)  0           ['rescaling[0][0]']              \n",
            "                                                                                                  \n",
            " conv1_pad (ZeroPadding2D)      (None, 246, 326, 1)  0           ['grayscale[0][0]']              \n",
            "                                                                                                  \n",
            " conv1_conv (Conv2D)            (None, 120, 160, 64  3200        ['conv1_pad[0][0]']              \n",
            "                                )                                                                 \n",
            "                                                                                                  \n",
            " conv1_bn (BatchNormalization)  (None, 120, 160, 64  256         ['conv1_conv[0][0]']             \n",
            "                                )                                                                 \n",
            "                                                                                                  \n",
            " conv1_relu (Activation)        (None, 120, 160, 64  0           ['conv1_bn[0][0]']               \n",
            "                                )                                                                 \n",
            "                                                                                                  \n",
            " pool1_pad (ZeroPadding2D)      (None, 122, 162, 64  0           ['conv1_relu[0][0]']             \n",
            "                                )                                                                 \n",
            "                                                                                                  \n",
            " pool1_pool (MaxPooling2D)      (None, 60, 80, 64)   0           ['pool1_pad[0][0]']              \n",
            "                                                                                                  \n",
            " conv2_block1_1_conv (Conv2D)   (None, 60, 80, 64)   4160        ['pool1_pool[0][0]']             \n",
            "                                                                                                  \n",
            " conv2_block1_1_bn (BatchNormal  (None, 60, 80, 64)  256         ['conv2_block1_1_conv[0][0]']    \n",
            " ization)                                                                                         \n",
            "                                                                                                  \n",
            " conv2_block1_1_relu (Activatio  (None, 60, 80, 64)  0           ['conv2_block1_1_bn[0][0]']      \n",
            " n)                                                                                               \n",
            "                                                                                                  \n",
            " conv2_block1_2_conv (Conv2D)   (None, 60, 80, 64)   36928       ['conv2_block1_1_relu[0][0]']    \n",
            "                                                                                                  \n",
            " conv2_block1_2_bn (BatchNormal  (None, 60, 80, 64)  256         ['conv2_block1_2_conv[0][0]']    \n",
            " ization)                                                                                         \n",
            "                                                                                                  \n",
            " conv2_block1_2_relu (Activatio  (None, 60, 80, 64)  0           ['conv2_block1_2_bn[0][0]']      \n",
            " n)                                                                                               \n",
            "                                                                                                  \n",
            " conv2_block1_0_conv (Conv2D)   (None, 60, 80, 256)  16640       ['pool1_pool[0][0]']             \n",
            "                                                                                                  \n",
            " conv2_block1_3_conv (Conv2D)   (None, 60, 80, 256)  16640       ['conv2_block1_2_relu[0][0]']    \n",
            "                                                                                                  \n",
            " conv2_block1_0_bn (BatchNormal  (None, 60, 80, 256)  1024       ['conv2_block1_0_conv[0][0]']    \n",
            " ization)                                                                                         \n",
            "                                                                                                  \n",
            " conv2_block1_3_bn (BatchNormal  (None, 60, 80, 256)  1024       ['conv2_block1_3_conv[0][0]']    \n",
            " ization)                                                                                         \n",
            "                                                                                                  \n",
            " conv2_block1_add (Add)         (None, 60, 80, 256)  0           ['conv2_block1_0_bn[0][0]',      \n",
            "                                                                  'conv2_block1_3_bn[0][0]']      \n",
            "                                                                                                  \n",
            " conv2_block1_out (Activation)  (None, 60, 80, 256)  0           ['conv2_block1_add[0][0]']       \n",
            "                                                                                                  \n",
            " conv2_block2_1_conv (Conv2D)   (None, 60, 80, 64)   16448       ['conv2_block1_out[0][0]']       \n",
            "                                                                                                  \n",
            " conv2_block2_1_bn (BatchNormal  (None, 60, 80, 64)  256         ['conv2_block2_1_conv[0][0]']    \n",
            " ization)                                                                                         \n",
            "                                                                                                  \n",
            " conv2_block2_1_relu (Activatio  (None, 60, 80, 64)  0           ['conv2_block2_1_bn[0][0]']      \n",
            " n)                                                                                               \n",
            "                                                                                                  \n",
            " conv2_block2_2_conv (Conv2D)   (None, 60, 80, 64)   36928       ['conv2_block2_1_relu[0][0]']    \n",
            "                                                                                                  \n",
            " conv2_block2_2_bn (BatchNormal  (None, 60, 80, 64)  256         ['conv2_block2_2_conv[0][0]']    \n",
            " ization)                                                                                         \n",
            "                                                                                                  \n",
            " conv2_block2_2_relu (Activatio  (None, 60, 80, 64)  0           ['conv2_block2_2_bn[0][0]']      \n",
            " n)                                                                                               \n",
            "                                                                                                  \n",
            " conv2_block2_3_conv (Conv2D)   (None, 60, 80, 256)  16640       ['conv2_block2_2_relu[0][0]']    \n",
            "                                                                                                  \n",
            " conv2_block2_3_bn (BatchNormal  (None, 60, 80, 256)  1024       ['conv2_block2_3_conv[0][0]']    \n",
            " ization)                                                                                         \n",
            "                                                                                                  \n",
            " conv2_block2_add (Add)         (None, 60, 80, 256)  0           ['conv2_block1_out[0][0]',       \n",
            "                                                                  'conv2_block2_3_bn[0][0]']      \n",
            "                                                                                                  \n",
            " conv2_block2_out (Activation)  (None, 60, 80, 256)  0           ['conv2_block2_add[0][0]']       \n",
            "                                                                                                  \n",
            " conv2_block3_1_conv (Conv2D)   (None, 60, 80, 64)   16448       ['conv2_block2_out[0][0]']       \n",
            "                                                                                                  \n",
            " conv2_block3_1_bn (BatchNormal  (None, 60, 80, 64)  256         ['conv2_block3_1_conv[0][0]']    \n",
            " ization)                                                                                         \n",
            "                                                                                                  \n",
            " conv2_block3_1_relu (Activatio  (None, 60, 80, 64)  0           ['conv2_block3_1_bn[0][0]']      \n",
            " n)                                                                                               \n",
            "                                                                                                  \n",
            " conv2_block3_2_conv (Conv2D)   (None, 60, 80, 64)   36928       ['conv2_block3_1_relu[0][0]']    \n",
            "                                                                                                  \n",
            " conv2_block3_2_bn (BatchNormal  (None, 60, 80, 64)  256         ['conv2_block3_2_conv[0][0]']    \n",
            " ization)                                                                                         \n",
            "                                                                                                  \n",
            " conv2_block3_2_relu (Activatio  (None, 60, 80, 64)  0           ['conv2_block3_2_bn[0][0]']      \n",
            " n)                                                                                               \n",
            "                                                                                                  \n",
            " conv2_block3_3_conv (Conv2D)   (None, 60, 80, 256)  16640       ['conv2_block3_2_relu[0][0]']    \n",
            "                                                                                                  \n",
            " conv2_block3_3_bn (BatchNormal  (None, 60, 80, 256)  1024       ['conv2_block3_3_conv[0][0]']    \n",
            " ization)                                                                                         \n",
            "                                                                                                  \n",
            " conv2_block3_add (Add)         (None, 60, 80, 256)  0           ['conv2_block2_out[0][0]',       \n",
            "                                                                  'conv2_block3_3_bn[0][0]']      \n",
            "                                                                                                  \n",
            " conv2_block3_out (Activation)  (None, 60, 80, 256)  0           ['conv2_block3_add[0][0]']       \n",
            "                                                                                                  \n",
            " conv3_block1_1_conv (Conv2D)   (None, 30, 40, 128)  32896       ['conv2_block3_out[0][0]']       \n",
            "                                                                                                  \n",
            " conv3_block1_1_bn (BatchNormal  (None, 30, 40, 128)  512        ['conv3_block1_1_conv[0][0]']    \n",
            " ization)                                                                                         \n",
            "                                                                                                  \n",
            " conv3_block1_1_relu (Activatio  (None, 30, 40, 128)  0          ['conv3_block1_1_bn[0][0]']      \n",
            " n)                                                                                               \n",
            "                                                                                                  \n",
            " conv3_block1_2_conv (Conv2D)   (None, 30, 40, 128)  147584      ['conv3_block1_1_relu[0][0]']    \n",
            "                                                                                                  \n",
            " conv3_block1_2_bn (BatchNormal  (None, 30, 40, 128)  512        ['conv3_block1_2_conv[0][0]']    \n",
            " ization)                                                                                         \n",
            "                                                                                                  \n",
            " conv3_block1_2_relu (Activatio  (None, 30, 40, 128)  0          ['conv3_block1_2_bn[0][0]']      \n",
            " n)                                                                                               \n",
            "                                                                                                  \n",
            " conv3_block1_0_conv (Conv2D)   (None, 30, 40, 512)  131584      ['conv2_block3_out[0][0]']       \n",
            "                                                                                                  \n",
            " conv3_block1_3_conv (Conv2D)   (None, 30, 40, 512)  66048       ['conv3_block1_2_relu[0][0]']    \n",
            "                                                                                                  \n",
            " conv3_block1_0_bn (BatchNormal  (None, 30, 40, 512)  2048       ['conv3_block1_0_conv[0][0]']    \n",
            " ization)                                                                                         \n",
            "                                                                                                  \n",
            " conv3_block1_3_bn (BatchNormal  (None, 30, 40, 512)  2048       ['conv3_block1_3_conv[0][0]']    \n",
            " ization)                                                                                         \n",
            "                                                                                                  \n",
            " conv3_block1_add (Add)         (None, 30, 40, 512)  0           ['conv3_block1_0_bn[0][0]',      \n",
            "                                                                  'conv3_block1_3_bn[0][0]']      \n",
            "                                                                                                  \n",
            " conv3_block1_out (Activation)  (None, 30, 40, 512)  0           ['conv3_block1_add[0][0]']       \n",
            "                                                                                                  \n",
            " conv3_block2_1_conv (Conv2D)   (None, 30, 40, 128)  65664       ['conv3_block1_out[0][0]']       \n",
            "                                                                                                  \n",
            " conv3_block2_1_bn (BatchNormal  (None, 30, 40, 128)  512        ['conv3_block2_1_conv[0][0]']    \n",
            " ization)                                                                                         \n",
            "                                                                                                  \n",
            " conv3_block2_1_relu (Activatio  (None, 30, 40, 128)  0          ['conv3_block2_1_bn[0][0]']      \n",
            " n)                                                                                               \n",
            "                                                                                                  \n",
            " conv3_block2_2_conv (Conv2D)   (None, 30, 40, 128)  147584      ['conv3_block2_1_relu[0][0]']    \n",
            "                                                                                                  \n",
            " conv3_block2_2_bn (BatchNormal  (None, 30, 40, 128)  512        ['conv3_block2_2_conv[0][0]']    \n",
            " ization)                                                                                         \n",
            "                                                                                                  \n",
            " conv3_block2_2_relu (Activatio  (None, 30, 40, 128)  0          ['conv3_block2_2_bn[0][0]']      \n",
            " n)                                                                                               \n",
            "                                                                                                  \n",
            " conv3_block2_3_conv (Conv2D)   (None, 30, 40, 512)  66048       ['conv3_block2_2_relu[0][0]']    \n",
            "                                                                                                  \n",
            " conv3_block2_3_bn (BatchNormal  (None, 30, 40, 512)  2048       ['conv3_block2_3_conv[0][0]']    \n",
            " ization)                                                                                         \n",
            "                                                                                                  \n",
            " conv3_block2_add (Add)         (None, 30, 40, 512)  0           ['conv3_block1_out[0][0]',       \n",
            "                                                                  'conv3_block2_3_bn[0][0]']      \n",
            "                                                                                                  \n",
            " conv3_block2_out (Activation)  (None, 30, 40, 512)  0           ['conv3_block2_add[0][0]']       \n",
            "                                                                                                  \n",
            " conv3_block3_1_conv (Conv2D)   (None, 30, 40, 128)  65664       ['conv3_block2_out[0][0]']       \n",
            "                                                                                                  \n",
            " conv3_block3_1_bn (BatchNormal  (None, 30, 40, 128)  512        ['conv3_block3_1_conv[0][0]']    \n",
            " ization)                                                                                         \n",
            "                                                                                                  \n",
            " conv3_block3_1_relu (Activatio  (None, 30, 40, 128)  0          ['conv3_block3_1_bn[0][0]']      \n",
            " n)                                                                                               \n",
            "                                                                                                  \n",
            " conv3_block3_2_conv (Conv2D)   (None, 30, 40, 128)  147584      ['conv3_block3_1_relu[0][0]']    \n",
            "                                                                                                  \n",
            " conv3_block3_2_bn (BatchNormal  (None, 30, 40, 128)  512        ['conv3_block3_2_conv[0][0]']    \n",
            " ization)                                                                                         \n",
            "                                                                                                  \n",
            " conv3_block3_2_relu (Activatio  (None, 30, 40, 128)  0          ['conv3_block3_2_bn[0][0]']      \n",
            " n)                                                                                               \n",
            "                                                                                                  \n",
            " conv3_block3_3_conv (Conv2D)   (None, 30, 40, 512)  66048       ['conv3_block3_2_relu[0][0]']    \n",
            "                                                                                                  \n",
            " conv3_block3_3_bn (BatchNormal  (None, 30, 40, 512)  2048       ['conv3_block3_3_conv[0][0]']    \n",
            " ization)                                                                                         \n",
            "                                                                                                  \n",
            " conv3_block3_add (Add)         (None, 30, 40, 512)  0           ['conv3_block2_out[0][0]',       \n",
            "                                                                  'conv3_block3_3_bn[0][0]']      \n",
            "                                                                                                  \n",
            " conv3_block3_out (Activation)  (None, 30, 40, 512)  0           ['conv3_block3_add[0][0]']       \n",
            "                                                                                                  \n",
            " conv3_block4_1_conv (Conv2D)   (None, 30, 40, 128)  65664       ['conv3_block3_out[0][0]']       \n",
            "                                                                                                  \n",
            " conv3_block4_1_bn (BatchNormal  (None, 30, 40, 128)  512        ['conv3_block4_1_conv[0][0]']    \n",
            " ization)                                                                                         \n",
            "                                                                                                  \n",
            " conv3_block4_1_relu (Activatio  (None, 30, 40, 128)  0          ['conv3_block4_1_bn[0][0]']      \n",
            " n)                                                                                               \n",
            "                                                                                                  \n",
            " conv3_block4_2_conv (Conv2D)   (None, 30, 40, 128)  147584      ['conv3_block4_1_relu[0][0]']    \n",
            "                                                                                                  \n",
            " conv3_block4_2_bn (BatchNormal  (None, 30, 40, 128)  512        ['conv3_block4_2_conv[0][0]']    \n",
            " ization)                                                                                         \n",
            "                                                                                                  \n",
            " conv3_block4_2_relu (Activatio  (None, 30, 40, 128)  0          ['conv3_block4_2_bn[0][0]']      \n",
            " n)                                                                                               \n",
            "                                                                                                  \n",
            " conv3_block4_3_conv (Conv2D)   (None, 30, 40, 512)  66048       ['conv3_block4_2_relu[0][0]']    \n",
            "                                                                                                  \n",
            " conv3_block4_3_bn (BatchNormal  (None, 30, 40, 512)  2048       ['conv3_block4_3_conv[0][0]']    \n",
            " ization)                                                                                         \n",
            "                                                                                                  \n",
            " conv3_block4_add (Add)         (None, 30, 40, 512)  0           ['conv3_block3_out[0][0]',       \n",
            "                                                                  'conv3_block4_3_bn[0][0]']      \n",
            "                                                                                                  \n",
            " conv3_block4_out (Activation)  (None, 30, 40, 512)  0           ['conv3_block4_add[0][0]']       \n",
            "                                                                                                  \n",
            " conv4_block1_1_conv (Conv2D)   (None, 15, 20, 256)  131328      ['conv3_block4_out[0][0]']       \n",
            "                                                                                                  \n",
            " conv4_block1_1_bn (BatchNormal  (None, 15, 20, 256)  1024       ['conv4_block1_1_conv[0][0]']    \n",
            " ization)                                                                                         \n",
            "                                                                                                  \n",
            " conv4_block1_1_relu (Activatio  (None, 15, 20, 256)  0          ['conv4_block1_1_bn[0][0]']      \n",
            " n)                                                                                               \n",
            "                                                                                                  \n",
            " conv4_block1_2_conv (Conv2D)   (None, 15, 20, 256)  590080      ['conv4_block1_1_relu[0][0]']    \n",
            "                                                                                                  \n",
            " conv4_block1_2_bn (BatchNormal  (None, 15, 20, 256)  1024       ['conv4_block1_2_conv[0][0]']    \n",
            " ization)                                                                                         \n",
            "                                                                                                  \n",
            " conv4_block1_2_relu (Activatio  (None, 15, 20, 256)  0          ['conv4_block1_2_bn[0][0]']      \n",
            " n)                                                                                               \n",
            "                                                                                                  \n",
            " conv4_block1_0_conv (Conv2D)   (None, 15, 20, 1024  525312      ['conv3_block4_out[0][0]']       \n",
            "                                )                                                                 \n",
            "                                                                                                  \n",
            " conv4_block1_3_conv (Conv2D)   (None, 15, 20, 1024  263168      ['conv4_block1_2_relu[0][0]']    \n",
            "                                )                                                                 \n",
            "                                                                                                  \n",
            " conv4_block1_0_bn (BatchNormal  (None, 15, 20, 1024  4096       ['conv4_block1_0_conv[0][0]']    \n",
            " ization)                       )                                                                 \n",
            "                                                                                                  \n",
            " conv4_block1_3_bn (BatchNormal  (None, 15, 20, 1024  4096       ['conv4_block1_3_conv[0][0]']    \n",
            " ization)                       )                                                                 \n",
            "                                                                                                  \n",
            " conv4_block1_add (Add)         (None, 15, 20, 1024  0           ['conv4_block1_0_bn[0][0]',      \n",
            "                                )                                 'conv4_block1_3_bn[0][0]']      \n",
            "                                                                                                  \n",
            " conv4_block1_out (Activation)  (None, 15, 20, 1024  0           ['conv4_block1_add[0][0]']       \n",
            "                                )                                                                 \n",
            "                                                                                                  \n",
            " conv4_block2_1_conv (Conv2D)   (None, 15, 20, 256)  262400      ['conv4_block1_out[0][0]']       \n",
            "                                                                                                  \n",
            " conv4_block2_1_bn (BatchNormal  (None, 15, 20, 256)  1024       ['conv4_block2_1_conv[0][0]']    \n",
            " ization)                                                                                         \n",
            "                                                                                                  \n",
            " conv4_block2_1_relu (Activatio  (None, 15, 20, 256)  0          ['conv4_block2_1_bn[0][0]']      \n",
            " n)                                                                                               \n",
            "                                                                                                  \n",
            " conv4_block2_2_conv (Conv2D)   (None, 15, 20, 256)  590080      ['conv4_block2_1_relu[0][0]']    \n",
            "                                                                                                  \n",
            " conv4_block2_2_bn (BatchNormal  (None, 15, 20, 256)  1024       ['conv4_block2_2_conv[0][0]']    \n",
            " ization)                                                                                         \n",
            "                                                                                                  \n",
            " conv4_block2_2_relu (Activatio  (None, 15, 20, 256)  0          ['conv4_block2_2_bn[0][0]']      \n",
            " n)                                                                                               \n",
            "                                                                                                  \n",
            " conv4_block2_3_conv (Conv2D)   (None, 15, 20, 1024  263168      ['conv4_block2_2_relu[0][0]']    \n",
            "                                )                                                                 \n",
            "                                                                                                  \n",
            " conv4_block2_3_bn (BatchNormal  (None, 15, 20, 1024  4096       ['conv4_block2_3_conv[0][0]']    \n",
            " ization)                       )                                                                 \n",
            "                                                                                                  \n",
            " conv4_block2_add (Add)         (None, 15, 20, 1024  0           ['conv4_block1_out[0][0]',       \n",
            "                                )                                 'conv4_block2_3_bn[0][0]']      \n",
            "                                                                                                  \n",
            " conv4_block2_out (Activation)  (None, 15, 20, 1024  0           ['conv4_block2_add[0][0]']       \n",
            "                                )                                                                 \n",
            "                                                                                                  \n",
            " conv4_block3_1_conv (Conv2D)   (None, 15, 20, 256)  262400      ['conv4_block2_out[0][0]']       \n",
            "                                                                                                  \n",
            " conv4_block3_1_bn (BatchNormal  (None, 15, 20, 256)  1024       ['conv4_block3_1_conv[0][0]']    \n",
            " ization)                                                                                         \n",
            "                                                                                                  \n",
            " conv4_block3_1_relu (Activatio  (None, 15, 20, 256)  0          ['conv4_block3_1_bn[0][0]']      \n",
            " n)                                                                                               \n",
            "                                                                                                  \n",
            " conv4_block3_2_conv (Conv2D)   (None, 15, 20, 256)  590080      ['conv4_block3_1_relu[0][0]']    \n",
            "                                                                                                  \n",
            " conv4_block3_2_bn (BatchNormal  (None, 15, 20, 256)  1024       ['conv4_block3_2_conv[0][0]']    \n",
            " ization)                                                                                         \n",
            "                                                                                                  \n",
            " conv4_block3_2_relu (Activatio  (None, 15, 20, 256)  0          ['conv4_block3_2_bn[0][0]']      \n",
            " n)                                                                                               \n",
            "                                                                                                  \n",
            " conv4_block3_3_conv (Conv2D)   (None, 15, 20, 1024  263168      ['conv4_block3_2_relu[0][0]']    \n",
            "                                )                                                                 \n",
            "                                                                                                  \n",
            " conv4_block3_3_bn (BatchNormal  (None, 15, 20, 1024  4096       ['conv4_block3_3_conv[0][0]']    \n",
            " ization)                       )                                                                 \n",
            "                                                                                                  \n",
            " conv4_block3_add (Add)         (None, 15, 20, 1024  0           ['conv4_block2_out[0][0]',       \n",
            "                                )                                 'conv4_block3_3_bn[0][0]']      \n",
            "                                                                                                  \n",
            " conv4_block3_out (Activation)  (None, 15, 20, 1024  0           ['conv4_block3_add[0][0]']       \n",
            "                                )                                                                 \n",
            "                                                                                                  \n",
            " conv4_block4_1_conv (Conv2D)   (None, 15, 20, 256)  262400      ['conv4_block3_out[0][0]']       \n",
            "                                                                                                  \n",
            " conv4_block4_1_bn (BatchNormal  (None, 15, 20, 256)  1024       ['conv4_block4_1_conv[0][0]']    \n",
            " ization)                                                                                         \n",
            "                                                                                                  \n",
            " conv4_block4_1_relu (Activatio  (None, 15, 20, 256)  0          ['conv4_block4_1_bn[0][0]']      \n",
            " n)                                                                                               \n",
            "                                                                                                  \n",
            " conv4_block4_2_conv (Conv2D)   (None, 15, 20, 256)  590080      ['conv4_block4_1_relu[0][0]']    \n",
            "                                                                                                  \n",
            " conv4_block4_2_bn (BatchNormal  (None, 15, 20, 256)  1024       ['conv4_block4_2_conv[0][0]']    \n",
            " ization)                                                                                         \n",
            "                                                                                                  \n",
            " conv4_block4_2_relu (Activatio  (None, 15, 20, 256)  0          ['conv4_block4_2_bn[0][0]']      \n",
            " n)                                                                                               \n",
            "                                                                                                  \n",
            " conv4_block4_3_conv (Conv2D)   (None, 15, 20, 1024  263168      ['conv4_block4_2_relu[0][0]']    \n",
            "                                )                                                                 \n",
            "                                                                                                  \n",
            " conv4_block4_3_bn (BatchNormal  (None, 15, 20, 1024  4096       ['conv4_block4_3_conv[0][0]']    \n",
            " ization)                       )                                                                 \n",
            "                                                                                                  \n",
            " conv4_block4_add (Add)         (None, 15, 20, 1024  0           ['conv4_block3_out[0][0]',       \n",
            "                                )                                 'conv4_block4_3_bn[0][0]']      \n",
            "                                                                                                  \n",
            " conv4_block4_out (Activation)  (None, 15, 20, 1024  0           ['conv4_block4_add[0][0]']       \n",
            "                                )                                                                 \n",
            "                                                                                                  \n",
            " conv4_block5_1_conv (Conv2D)   (None, 15, 20, 256)  262400      ['conv4_block4_out[0][0]']       \n",
            "                                                                                                  \n",
            " conv4_block5_1_bn (BatchNormal  (None, 15, 20, 256)  1024       ['conv4_block5_1_conv[0][0]']    \n",
            " ization)                                                                                         \n",
            "                                                                                                  \n",
            " conv4_block5_1_relu (Activatio  (None, 15, 20, 256)  0          ['conv4_block5_1_bn[0][0]']      \n",
            " n)                                                                                               \n",
            "                                                                                                  \n",
            " conv4_block5_2_conv (Conv2D)   (None, 15, 20, 256)  590080      ['conv4_block5_1_relu[0][0]']    \n",
            "                                                                                                  \n",
            " conv4_block5_2_bn (BatchNormal  (None, 15, 20, 256)  1024       ['conv4_block5_2_conv[0][0]']    \n",
            " ization)                                                                                         \n",
            "                                                                                                  \n",
            " conv4_block5_2_relu (Activatio  (None, 15, 20, 256)  0          ['conv4_block5_2_bn[0][0]']      \n",
            " n)                                                                                               \n",
            "                                                                                                  \n",
            " conv4_block5_3_conv (Conv2D)   (None, 15, 20, 1024  263168      ['conv4_block5_2_relu[0][0]']    \n",
            "                                )                                                                 \n",
            "                                                                                                  \n",
            " conv4_block5_3_bn (BatchNormal  (None, 15, 20, 1024  4096       ['conv4_block5_3_conv[0][0]']    \n",
            " ization)                       )                                                                 \n",
            "                                                                                                  \n",
            " conv4_block5_add (Add)         (None, 15, 20, 1024  0           ['conv4_block4_out[0][0]',       \n",
            "                                )                                 'conv4_block5_3_bn[0][0]']      \n",
            "                                                                                                  \n",
            " conv4_block5_out (Activation)  (None, 15, 20, 1024  0           ['conv4_block5_add[0][0]']       \n",
            "                                )                                                                 \n",
            "                                                                                                  \n",
            " conv4_block6_1_conv (Conv2D)   (None, 15, 20, 256)  262400      ['conv4_block5_out[0][0]']       \n",
            "                                                                                                  \n",
            " conv4_block6_1_bn (BatchNormal  (None, 15, 20, 256)  1024       ['conv4_block6_1_conv[0][0]']    \n",
            " ization)                                                                                         \n",
            "                                                                                                  \n",
            " conv4_block6_1_relu (Activatio  (None, 15, 20, 256)  0          ['conv4_block6_1_bn[0][0]']      \n",
            " n)                                                                                               \n",
            "                                                                                                  \n",
            " conv4_block6_2_conv (Conv2D)   (None, 15, 20, 256)  590080      ['conv4_block6_1_relu[0][0]']    \n",
            "                                                                                                  \n",
            " conv4_block6_2_bn (BatchNormal  (None, 15, 20, 256)  1024       ['conv4_block6_2_conv[0][0]']    \n",
            " ization)                                                                                         \n",
            "                                                                                                  \n",
            " conv4_block6_2_relu (Activatio  (None, 15, 20, 256)  0          ['conv4_block6_2_bn[0][0]']      \n",
            " n)                                                                                               \n",
            "                                                                                                  \n",
            " conv4_block6_3_conv (Conv2D)   (None, 15, 20, 1024  263168      ['conv4_block6_2_relu[0][0]']    \n",
            "                                )                                                                 \n",
            "                                                                                                  \n",
            " conv4_block6_3_bn (BatchNormal  (None, 15, 20, 1024  4096       ['conv4_block6_3_conv[0][0]']    \n",
            " ization)                       )                                                                 \n",
            "                                                                                                  \n",
            " conv4_block6_add (Add)         (None, 15, 20, 1024  0           ['conv4_block5_out[0][0]',       \n",
            "                                )                                 'conv4_block6_3_bn[0][0]']      \n",
            "                                                                                                  \n",
            " conv4_block6_out (Activation)  (None, 15, 20, 1024  0           ['conv4_block6_add[0][0]']       \n",
            "                                )                                                                 \n",
            "                                                                                                  \n",
            " conv5_block1_1_conv (Conv2D)   (None, 8, 10, 512)   524800      ['conv4_block6_out[0][0]']       \n",
            "                                                                                                  \n",
            " conv5_block1_1_bn (BatchNormal  (None, 8, 10, 512)  2048        ['conv5_block1_1_conv[0][0]']    \n",
            " ization)                                                                                         \n",
            "                                                                                                  \n",
            " conv5_block1_1_relu (Activatio  (None, 8, 10, 512)  0           ['conv5_block1_1_bn[0][0]']      \n",
            " n)                                                                                               \n",
            "                                                                                                  \n",
            " conv5_block1_2_conv (Conv2D)   (None, 8, 10, 512)   2359808     ['conv5_block1_1_relu[0][0]']    \n",
            "                                                                                                  \n",
            " conv5_block1_2_bn (BatchNormal  (None, 8, 10, 512)  2048        ['conv5_block1_2_conv[0][0]']    \n",
            " ization)                                                                                         \n",
            "                                                                                                  \n",
            " conv5_block1_2_relu (Activatio  (None, 8, 10, 512)  0           ['conv5_block1_2_bn[0][0]']      \n",
            " n)                                                                                               \n",
            "                                                                                                  \n",
            " conv5_block1_0_conv (Conv2D)   (None, 8, 10, 2048)  2099200     ['conv4_block6_out[0][0]']       \n",
            "                                                                                                  \n",
            " conv5_block1_3_conv (Conv2D)   (None, 8, 10, 2048)  1050624     ['conv5_block1_2_relu[0][0]']    \n",
            "                                                                                                  \n",
            " conv5_block1_0_bn (BatchNormal  (None, 8, 10, 2048)  8192       ['conv5_block1_0_conv[0][0]']    \n",
            " ization)                                                                                         \n",
            "                                                                                                  \n",
            " conv5_block1_3_bn (BatchNormal  (None, 8, 10, 2048)  8192       ['conv5_block1_3_conv[0][0]']    \n",
            " ization)                                                                                         \n",
            "                                                                                                  \n",
            " conv5_block1_add (Add)         (None, 8, 10, 2048)  0           ['conv5_block1_0_bn[0][0]',      \n",
            "                                                                  'conv5_block1_3_bn[0][0]']      \n",
            "                                                                                                  \n",
            " conv5_block1_out (Activation)  (None, 8, 10, 2048)  0           ['conv5_block1_add[0][0]']       \n",
            "                                                                                                  \n",
            " conv5_block2_1_conv (Conv2D)   (None, 8, 10, 512)   1049088     ['conv5_block1_out[0][0]']       \n",
            "                                                                                                  \n",
            " conv5_block2_1_bn (BatchNormal  (None, 8, 10, 512)  2048        ['conv5_block2_1_conv[0][0]']    \n",
            " ization)                                                                                         \n",
            "                                                                                                  \n",
            " conv5_block2_1_relu (Activatio  (None, 8, 10, 512)  0           ['conv5_block2_1_bn[0][0]']      \n",
            " n)                                                                                               \n",
            "                                                                                                  \n",
            " conv5_block2_2_conv (Conv2D)   (None, 8, 10, 512)   2359808     ['conv5_block2_1_relu[0][0]']    \n",
            "                                                                                                  \n",
            " conv5_block2_2_bn (BatchNormal  (None, 8, 10, 512)  2048        ['conv5_block2_2_conv[0][0]']    \n",
            " ization)                                                                                         \n",
            "                                                                                                  \n",
            " conv5_block2_2_relu (Activatio  (None, 8, 10, 512)  0           ['conv5_block2_2_bn[0][0]']      \n",
            " n)                                                                                               \n",
            "                                                                                                  \n",
            " conv5_block2_3_conv (Conv2D)   (None, 8, 10, 2048)  1050624     ['conv5_block2_2_relu[0][0]']    \n",
            "                                                                                                  \n",
            " conv5_block2_3_bn (BatchNormal  (None, 8, 10, 2048)  8192       ['conv5_block2_3_conv[0][0]']    \n",
            " ization)                                                                                         \n",
            "                                                                                                  \n",
            " conv5_block2_add (Add)         (None, 8, 10, 2048)  0           ['conv5_block1_out[0][0]',       \n",
            "                                                                  'conv5_block2_3_bn[0][0]']      \n",
            "                                                                                                  \n",
            " conv5_block2_out (Activation)  (None, 8, 10, 2048)  0           ['conv5_block2_add[0][0]']       \n",
            "                                                                                                  \n",
            " conv5_block3_1_conv (Conv2D)   (None, 8, 10, 512)   1049088     ['conv5_block2_out[0][0]']       \n",
            "                                                                                                  \n",
            " conv5_block3_1_bn (BatchNormal  (None, 8, 10, 512)  2048        ['conv5_block3_1_conv[0][0]']    \n",
            " ization)                                                                                         \n",
            "                                                                                                  \n",
            " conv5_block3_1_relu (Activatio  (None, 8, 10, 512)  0           ['conv5_block3_1_bn[0][0]']      \n",
            " n)                                                                                               \n",
            "                                                                                                  \n",
            " conv5_block3_2_conv (Conv2D)   (None, 8, 10, 512)   2359808     ['conv5_block3_1_relu[0][0]']    \n",
            "                                                                                                  \n",
            " conv5_block3_2_bn (BatchNormal  (None, 8, 10, 512)  2048        ['conv5_block3_2_conv[0][0]']    \n",
            " ization)                                                                                         \n",
            "                                                                                                  \n",
            " conv5_block3_2_relu (Activatio  (None, 8, 10, 512)  0           ['conv5_block3_2_bn[0][0]']      \n",
            " n)                                                                                               \n",
            "                                                                                                  \n",
            " conv5_block3_3_conv (Conv2D)   (None, 8, 10, 2048)  1050624     ['conv5_block3_2_relu[0][0]']    \n",
            "                                                                                                  \n",
            " conv5_block3_3_bn (BatchNormal  (None, 8, 10, 2048)  8192       ['conv5_block3_3_conv[0][0]']    \n",
            " ization)                                                                                         \n",
            "                                                                                                  \n",
            " conv5_block3_add (Add)         (None, 8, 10, 2048)  0           ['conv5_block2_out[0][0]',       \n",
            "                                                                  'conv5_block3_3_bn[0][0]']      \n",
            "                                                                                                  \n",
            " conv5_block3_out (Activation)  (None, 8, 10, 2048)  0           ['conv5_block3_add[0][0]']       \n",
            "                                                                                                  \n",
            " flatten (Flatten)              (None, 163840)       0           ['conv5_block3_out[0][0]']       \n",
            "                                                                                                  \n",
            " dropout (Dropout)              (None, 163840)       0           ['flatten[0][0]']                \n",
            "                                                                                                  \n",
            " dense512_arjun (Dense)         (None, 512)          83886592    ['dropout[0][0]']                \n",
            "                                                                                                  \n",
            " activation (Activation)        (None, 512)          0           ['dense512_arjun[0][0]']         \n",
            "                                                                                                  \n",
            " dropout_1 (Dropout)            (None, 512)          0           ['activation[0][0]']             \n",
            "                                                                                                  \n",
            " dense25_arjun (Dense)          (None, 25)           12825       ['dropout_1[0][0]']              \n",
            "                                                                                                  \n",
            " activation_1 (Activation)      (None, 25)           0           ['dense25_arjun[0][0]']          \n",
            "                                                                                                  \n",
            " dense10_arjun (Dense)          (None, 10)           260         ['activation_1[0][0]']           \n",
            "                                                                                                  \n",
            " activation_2 (Activation)      (None, 10)           0           ['dense10_arjun[0][0]']          \n",
            "                                                                                                  \n",
            " dense1sig (Dense)              (None, 1)            11          ['activation_2[0][0]']           \n",
            "                                                                                                  \n",
            " activation_3 (Activation)      (None, 1)            0           ['dense1sig[0][0]']              \n",
            "                                                                                                  \n",
            "==================================================================================================\n",
            "Total params: 107,481,128\n",
            "Trainable params: 107,428,008\n",
            "Non-trainable params: 53,120\n",
            "__________________________________________________________________________________________________\n"
          ]
        }
      ]
    },
    {
      "cell_type": "code",
      "source": [
        "# pretrain_model=keras.models.load_model('/content/drive/MyDrive/ML-AI_capstone_project/models/2023-05-29-08-36_arjun_trained_model_20_epoch_resnet')\n",
        "# final_model=pretrain_model\n"
      ],
      "metadata": {
        "id": "mSEWqa9z3GlR"
      },
      "execution_count": null,
      "outputs": []
    },
    {
      "cell_type": "code",
      "source": [],
      "metadata": {
        "id": "7s99lOFm4c2a"
      },
      "execution_count": null,
      "outputs": []
    },
    {
      "cell_type": "code",
      "source": [
        "# final_model=keras.models.load_model('/content/drive/MyDrive/ML-AI_capstone_project/models/m_2023-06-03-1415_model_81_epochs')\n",
        "\n",
        "final_model=keras.models.load_model('/content/drive/MyDrive/ML-AI_capstone_project/models/m_2023-06-03-1415_model')\n",
        "\n"
      ],
      "metadata": {
        "id": "WzCTd-B3bLuR"
      },
      "execution_count": null,
      "outputs": []
    },
    {
      "cell_type": "code",
      "source": [
        "### training\n",
        "from keras.optimizers import SGD, Adam,RMSprop\n",
        "final_model.compile(\n",
        "    optimizer=SGD(0.01),\n",
        "    # optimizer=RMSprop(lr=0.01),\n",
        "\n",
        "    # optimizer=SGD(lr=0.01),\n",
        "    # optimizer=Adam(lr=0.001),\n",
        "\n",
        "    loss=\"binary_crossentropy\",\n",
        "    metrics=[\"accuracy\"]\n",
        ")"
      ],
      "metadata": {
        "id": "yQF-2y1q6ajM"
      },
      "execution_count": 76,
      "outputs": []
    },
    {
      "cell_type": "code",
      "source": [
        "###### ! rm -r '/content/drive/MyDrive/ML-AI_capstone_project/models/callback_backup2'\n",
        "clear_gdrive_trash()"
      ],
      "metadata": {
        "colab": {
          "base_uri": "https://localhost:8080/"
        },
        "id": "QeDzARABcwmo",
        "outputId": "a6578cf6-aa1c-4306-96e7-3a0c5937dbd5"
      },
      "execution_count": null,
      "outputs": [
        {
          "output_type": "stream",
          "name": "stdout",
          "text": [
            "0\n"
          ]
        }
      ]
    },
    {
      "cell_type": "code",
      "execution_count": null,
      "metadata": {
        "colab": {
          "base_uri": "https://localhost:8080/"
        },
        "id": "0vYrA9CSeHa-",
        "outputId": "1874a648-0025-4cc6-df81-a3eed60420ca"
      },
      "outputs": [
        {
          "output_type": "stream",
          "name": "stdout",
          "text": [
            "mkdir: cannot create directory ‘/content/drive/MyDrive/ML-AI_capstone_project/models/callback_backup’: File exists\n",
            "mkdir: cannot create directory ‘/content/drive/MyDrive/ML-AI_capstone_project/models/callback_checkpoint’: File exists\n",
            "0\n"
          ]
        }
      ],
      "source": [
        "from datetime import datetime\n",
        "timestamp=datetime.now().strftime('%Y-%m-%d-%H%M')\n",
        "\n",
        "model_name=f'm_2023-06-03-1415'\n",
        "\n",
        "with open(f'{drive_project_folder_path}/models/{model_name}_info.txt','w') as f:\n",
        "    f.write('''\n",
        "        m_2023-06-03-1415 model\n",
        "        trained on small_train using .take(100) batch 32\n",
        "        aimed for 100 epochs\n",
        "        accuracy seems to be stuck at 65% after 68 epochs\n",
        "        so trying to not use reducelearningrate_on_plateau and start with default adam\n",
        "        learning rate (probably 0.001) - did 13 more epochs with that but still no improvement\n",
        "        Saved with total 81 epoch model\n",
        "        loaded that saved model ; now let's train with SGD as optimizer [[2023-06-03]]-2143-52\n",
        "        trained 10 epochs with sgd as optimizer; and saved the model as m_2023-06-03-1415_model [[2023-06-03]]-2159-55\n",
        "\n",
        "        reduced the batch size to 8 [[2023-06-03]]-2206-07 and added the lr plateau callback \n",
        "\n",
        "\n",
        "    ''')\n",
        "! mkdir '/content/drive/MyDrive/ML-AI_capstone_project/models/callback_backup'\n",
        "! mkdir '/content/drive/MyDrive/ML-AI_capstone_project/models/callback_checkpoint'\n",
        "\n",
        "backup_dir='/content/drive/MyDrive/ML-AI_capstone_project/models/callback_backup'\n",
        "checkpoint_filepath=f'{drive_project_folder_path}/models/callback_checkpoint'\n",
        "\n",
        "backup_callback = keras.callbacks.BackupAndRestore(backup_dir=backup_dir)\n",
        "reduce_lr_plateau=keras.callbacks.ReduceLROnPlateau()\n",
        "model_checkpoint_callback = keras.callbacks.ModelCheckpoint(\n",
        "    filepath=checkpoint_filepath,\n",
        "    save_weights_only=True,\n",
        "    monitor='val_accuracy',\n",
        "    mode='max',\n",
        "    save_best_only=True)\n",
        "csvlogger_callback=keras.callbacks.CSVLogger(\n",
        "    filename=f'{drive_project_folder_path}/models/{model_name}_CSV_epochs_stats.csv',\n",
        "    append=True\n",
        "    )\n",
        "\n",
        "\n",
        "clear_gdrive_trash()\n",
        "\n"
      ]
    },
    {
      "cell_type": "code",
      "source": [],
      "metadata": {
        "id": "35yjF0yanVsO"
      },
      "execution_count": null,
      "outputs": []
    },
    {
      "cell_type": "code",
      "source": [
        "\n",
        "# callbacks_list=[backup_callback,reduce_lr_plateau,model_checkpoint_callback,csvlogger_callback]\n",
        "callbacks_list=[reduce_lr_plateau,model_checkpoint_callback,csvlogger_callback]\n",
        "# callbacks_list=[model_checkpoint_callback,csvlogger_callback]\n",
        "# callbacks_list=[csvlogger_callback]\n",
        "\n",
        "# callbacks_list=[]\n",
        "final_model.fit(\n",
        "    # train_img_set_tfds,\n",
        "    small_train,\n",
        "    # y=y_gen_enc,\n",
        "    epochs=100,\n",
        "    validation_data=test_img_set_tfds,\n",
        "    # batch_size=5,\n",
        "    class_weight={0:(1/3967), 1:(1/7109)},\n",
        "    callbacks=[callbacks_list]\n",
        ")\n",
        "clear_gdrive_trash()"
      ],
      "metadata": {
        "id": "Srf9CcsI3EuQ",
        "colab": {
          "base_uri": "https://localhost:8080/"
        },
        "outputId": "a39dd5f7-4bb3-46f1-a256-622260c824bf"
      },
      "execution_count": null,
      "outputs": [
        {
          "output_type": "stream",
          "name": "stdout",
          "text": [
            "Epoch 1/100\n",
            "400/400 [==============================] - 85s 198ms/step - loss: 1.2456e-04 - accuracy: 0.6494 - val_loss: 0.6878 - val_accuracy: 0.6330 - lr: 0.0100\n",
            "Epoch 2/100\n",
            "400/400 [==============================] - 76s 187ms/step - loss: 1.2456e-04 - accuracy: 0.6494 - val_loss: 0.6878 - val_accuracy: 0.6330 - lr: 0.0100\n",
            "Epoch 3/100\n",
            "400/400 [==============================] - 76s 188ms/step - loss: 1.2448e-04 - accuracy: 0.6500 - val_loss: 0.6878 - val_accuracy: 0.6330 - lr: 0.0100\n",
            "Epoch 4/100\n",
            "400/400 [==============================] - 77s 192ms/step - loss: 1.2448e-04 - accuracy: 0.6503 - val_loss: 0.6878 - val_accuracy: 0.6330 - lr: 0.0100\n",
            "Epoch 5/100\n",
            "400/400 [==============================] - 75s 188ms/step - loss: 1.2443e-04 - accuracy: 0.6509 - val_loss: 0.6878 - val_accuracy: 0.6330 - lr: 0.0100\n",
            "Epoch 6/100\n",
            "400/400 [==============================] - 78s 195ms/step - loss: 1.2439e-04 - accuracy: 0.6513 - val_loss: 0.6878 - val_accuracy: 0.6330 - lr: 0.0100\n",
            "Epoch 7/100\n",
            "400/400 [==============================] - 83s 206ms/step - loss: 1.2450e-04 - accuracy: 0.6500 - val_loss: 0.6878 - val_accuracy: 0.6330 - lr: 0.0100\n",
            "Epoch 8/100\n",
            "400/400 [==============================] - 76s 190ms/step - loss: 1.2442e-04 - accuracy: 0.6509 - val_loss: 0.6878 - val_accuracy: 0.6330 - lr: 0.0100\n",
            "Epoch 9/100\n",
            "400/400 [==============================] - 76s 188ms/step - loss: 1.2450e-04 - accuracy: 0.6500 - val_loss: 0.6878 - val_accuracy: 0.6330 - lr: 0.0100\n",
            "Epoch 10/100\n",
            "400/400 [==============================] - 75s 188ms/step - loss: 1.2454e-04 - accuracy: 0.6497 - val_loss: 0.6878 - val_accuracy: 0.6330 - lr: 0.0100\n",
            "Epoch 11/100\n",
            "400/400 [==============================] - 76s 188ms/step - loss: 1.2455e-04 - accuracy: 0.6494 - val_loss: 0.6878 - val_accuracy: 0.6330 - lr: 0.0100\n",
            "Epoch 12/100\n",
            "400/400 [==============================] - 76s 188ms/step - loss: 1.2454e-04 - accuracy: 0.6497 - val_loss: 0.6878 - val_accuracy: 0.6330 - lr: 1.0000e-03\n",
            "Epoch 13/100\n",
            "400/400 [==============================] - 82s 204ms/step - loss: 1.2445e-04 - accuracy: 0.6506 - val_loss: 0.6878 - val_accuracy: 0.6330 - lr: 1.0000e-03\n",
            "Epoch 14/100\n",
            "400/400 [==============================] - 81s 202ms/step - loss: 1.2450e-04 - accuracy: 0.6497 - val_loss: 0.6878 - val_accuracy: 0.6330 - lr: 1.0000e-03\n",
            "Epoch 15/100\n",
            "400/400 [==============================] - 77s 191ms/step - loss: 1.2432e-04 - accuracy: 0.6522 - val_loss: 0.6878 - val_accuracy: 0.6330 - lr: 1.0000e-03\n",
            "Epoch 16/100\n",
            "400/400 [==============================] - 81s 203ms/step - loss: 1.2448e-04 - accuracy: 0.6503 - val_loss: 0.6878 - val_accuracy: 0.6330 - lr: 1.0000e-03\n",
            "Epoch 17/100\n",
            "400/400 [==============================] - 75s 188ms/step - loss: 1.2442e-04 - accuracy: 0.6509 - val_loss: 0.6878 - val_accuracy: 0.6330 - lr: 1.0000e-03\n",
            "Epoch 18/100\n",
            "400/400 [==============================] - 75s 188ms/step - loss: 1.2448e-04 - accuracy: 0.6503 - val_loss: 0.6878 - val_accuracy: 0.6330 - lr: 1.0000e-03\n",
            "Epoch 19/100\n",
            "400/400 [==============================] - 76s 190ms/step - loss: 1.2451e-04 - accuracy: 0.6500 - val_loss: 0.6878 - val_accuracy: 0.6330 - lr: 1.0000e-03\n",
            "Epoch 20/100\n",
            "400/400 [==============================] - 76s 188ms/step - loss: 1.2461e-04 - accuracy: 0.6488 - val_loss: 0.6878 - val_accuracy: 0.6330 - lr: 1.0000e-03\n",
            "Epoch 21/100\n",
            "400/400 [==============================] - 81s 202ms/step - loss: 1.2453e-04 - accuracy: 0.6497 - val_loss: 0.6878 - val_accuracy: 0.6330 - lr: 1.0000e-03\n",
            "Epoch 22/100\n",
            "400/400 [==============================] - 75s 187ms/step - loss: 1.2462e-04 - accuracy: 0.6488 - val_loss: 0.6878 - val_accuracy: 0.6330 - lr: 1.0000e-04\n",
            "Epoch 23/100\n",
            "400/400 [==============================] - 76s 188ms/step - loss: 1.2457e-04 - accuracy: 0.6494 - val_loss: 0.6878 - val_accuracy: 0.6330 - lr: 1.0000e-04\n",
            "Epoch 24/100\n",
            "400/400 [==============================] - 82s 203ms/step - loss: 1.2460e-04 - accuracy: 0.6488 - val_loss: 0.6878 - val_accuracy: 0.6330 - lr: 1.0000e-04\n",
            "Epoch 25/100\n",
            "400/400 [==============================] - 76s 189ms/step - loss: 1.2453e-04 - accuracy: 0.6497 - val_loss: 0.6878 - val_accuracy: 0.6330 - lr: 1.0000e-04\n",
            "Epoch 26/100\n",
            "400/400 [==============================] - 82s 204ms/step - loss: 1.2449e-04 - accuracy: 0.6500 - val_loss: 0.6878 - val_accuracy: 0.6330 - lr: 1.0000e-04\n",
            "Epoch 27/100\n",
            "400/400 [==============================] - 76s 190ms/step - loss: 1.2458e-04 - accuracy: 0.6491 - val_loss: 0.6878 - val_accuracy: 0.6330 - lr: 1.0000e-04\n",
            "Epoch 28/100\n",
            "400/400 [==============================] - 82s 204ms/step - loss: 1.2450e-04 - accuracy: 0.6500 - val_loss: 0.6878 - val_accuracy: 0.6330 - lr: 1.0000e-04\n",
            "Epoch 29/100\n",
            "400/400 [==============================] - 76s 190ms/step - loss: 1.2437e-04 - accuracy: 0.6516 - val_loss: 0.6878 - val_accuracy: 0.6330 - lr: 1.0000e-04\n",
            "Epoch 30/100\n",
            "400/400 [==============================] - 76s 190ms/step - loss: 1.2442e-04 - accuracy: 0.6509 - val_loss: 0.6878 - val_accuracy: 0.6330 - lr: 1.0000e-04\n",
            "Epoch 31/100\n",
            "400/400 [==============================] - 76s 189ms/step - loss: 1.2444e-04 - accuracy: 0.6506 - val_loss: 0.6878 - val_accuracy: 0.6330 - lr: 1.0000e-04\n",
            "Epoch 32/100\n",
            "400/400 [==============================] - 82s 204ms/step - loss: 1.2440e-04 - accuracy: 0.6513 - val_loss: 0.6878 - val_accuracy: 0.6330 - lr: 1.0000e-05\n",
            "Epoch 33/100\n",
            "400/400 [==============================] - 75s 187ms/step - loss: 1.2453e-04 - accuracy: 0.6497 - val_loss: 0.6878 - val_accuracy: 0.6330 - lr: 1.0000e-05\n",
            "Epoch 34/100\n",
            "400/400 [==============================] - 75s 188ms/step - loss: 1.2453e-04 - accuracy: 0.6500 - val_loss: 0.6878 - val_accuracy: 0.6330 - lr: 1.0000e-05\n",
            "Epoch 35/100\n",
            "400/400 [==============================] - 75s 187ms/step - loss: 1.2452e-04 - accuracy: 0.6497 - val_loss: 0.6878 - val_accuracy: 0.6330 - lr: 1.0000e-05\n",
            "Epoch 36/100\n",
            "400/400 [==============================] - 75s 188ms/step - loss: 1.2434e-04 - accuracy: 0.6519 - val_loss: 0.6878 - val_accuracy: 0.6330 - lr: 1.0000e-05\n",
            "Epoch 37/100\n",
            "400/400 [==============================] - 82s 203ms/step - loss: 1.2453e-04 - accuracy: 0.6500 - val_loss: 0.6878 - val_accuracy: 0.6330 - lr: 1.0000e-05\n",
            "Epoch 38/100\n",
            "400/400 [==============================] - 76s 188ms/step - loss: 1.2446e-04 - accuracy: 0.6506 - val_loss: 0.6878 - val_accuracy: 0.6330 - lr: 1.0000e-05\n",
            "Epoch 39/100\n",
            "400/400 [==============================] - 76s 188ms/step - loss: 1.2452e-04 - accuracy: 0.6497 - val_loss: 0.6878 - val_accuracy: 0.6330 - lr: 1.0000e-05\n",
            "Epoch 40/100\n",
            "400/400 [==============================] - 75s 187ms/step - loss: 1.2441e-04 - accuracy: 0.6513 - val_loss: 0.6878 - val_accuracy: 0.6330 - lr: 1.0000e-05\n",
            "Epoch 41/100\n",
            "400/400 [==============================] - 76s 188ms/step - loss: 1.2431e-04 - accuracy: 0.6522 - val_loss: 0.6878 - val_accuracy: 0.6330 - lr: 1.0000e-05\n",
            "Epoch 42/100\n",
            "400/400 [==============================] - 82s 205ms/step - loss: 1.2448e-04 - accuracy: 0.6503 - val_loss: 0.6878 - val_accuracy: 0.6330 - lr: 1.0000e-06\n",
            "Epoch 43/100\n",
            "400/400 [==============================] - 76s 189ms/step - loss: 1.2448e-04 - accuracy: 0.6503 - val_loss: 0.6878 - val_accuracy: 0.6330 - lr: 1.0000e-06\n",
            "Epoch 44/100\n",
            "400/400 [==============================] - 75s 188ms/step - loss: 1.2446e-04 - accuracy: 0.6506 - val_loss: 0.6878 - val_accuracy: 0.6330 - lr: 1.0000e-06\n",
            "Epoch 45/100\n",
            "400/400 [==============================] - 76s 189ms/step - loss: 1.2442e-04 - accuracy: 0.6509 - val_loss: 0.6878 - val_accuracy: 0.6330 - lr: 1.0000e-06\n",
            "Epoch 46/100\n",
            "400/400 [==============================] - 82s 204ms/step - loss: 1.2443e-04 - accuracy: 0.6509 - val_loss: 0.6878 - val_accuracy: 0.6330 - lr: 1.0000e-06\n",
            "Epoch 47/100\n",
            "400/400 [==============================] - 76s 189ms/step - loss: 1.2451e-04 - accuracy: 0.6500 - val_loss: 0.6878 - val_accuracy: 0.6330 - lr: 1.0000e-06\n",
            "Epoch 48/100\n",
            "400/400 [==============================] - 76s 189ms/step - loss: 1.2445e-04 - accuracy: 0.6506 - val_loss: 0.6878 - val_accuracy: 0.6330 - lr: 1.0000e-06\n",
            "Epoch 49/100\n",
            "400/400 [==============================] - 82s 204ms/step - loss: 1.2450e-04 - accuracy: 0.6500 - val_loss: 0.6878 - val_accuracy: 0.6330 - lr: 1.0000e-06\n",
            "Epoch 50/100\n",
            "400/400 [==============================] - 76s 188ms/step - loss: 1.2437e-04 - accuracy: 0.6516 - val_loss: 0.6878 - val_accuracy: 0.6330 - lr: 1.0000e-06\n",
            "Epoch 51/100\n",
            "400/400 [==============================] - 82s 203ms/step - loss: 1.2439e-04 - accuracy: 0.6513 - val_loss: 0.6878 - val_accuracy: 0.6330 - lr: 1.0000e-06\n",
            "Epoch 52/100\n",
            "400/400 [==============================] - 76s 189ms/step - loss: 1.2450e-04 - accuracy: 0.6500 - val_loss: 0.6878 - val_accuracy: 0.6330 - lr: 1.0000e-07\n",
            "Epoch 53/100\n",
            "400/400 [==============================] - 82s 204ms/step - loss: 1.2432e-04 - accuracy: 0.6525 - val_loss: 0.6878 - val_accuracy: 0.6330 - lr: 1.0000e-07\n",
            "Epoch 54/100\n",
            "400/400 [==============================] - 76s 189ms/step - loss: 1.2434e-04 - accuracy: 0.6519 - val_loss: 0.6878 - val_accuracy: 0.6330 - lr: 1.0000e-07\n",
            "Epoch 55/100\n",
            "400/400 [==============================] - 76s 189ms/step - loss: 1.2442e-04 - accuracy: 0.6509 - val_loss: 0.6878 - val_accuracy: 0.6330 - lr: 1.0000e-07\n",
            "Epoch 56/100\n",
            "400/400 [==============================] - 76s 189ms/step - loss: 1.2434e-04 - accuracy: 0.6519 - val_loss: 0.6878 - val_accuracy: 0.6330 - lr: 1.0000e-07\n",
            "Epoch 57/100\n",
            "400/400 [==============================] - 76s 189ms/step - loss: 1.2447e-04 - accuracy: 0.6500 - val_loss: 0.6878 - val_accuracy: 0.6330 - lr: 1.0000e-07\n",
            "Epoch 58/100\n",
            "400/400 [==============================] - 76s 189ms/step - loss: 1.2447e-04 - accuracy: 0.6503 - val_loss: 0.6878 - val_accuracy: 0.6330 - lr: 1.0000e-07\n",
            "Epoch 59/100\n",
            "400/400 [==============================] - 76s 190ms/step - loss: 1.2450e-04 - accuracy: 0.6500 - val_loss: 0.6878 - val_accuracy: 0.6330 - lr: 1.0000e-07\n",
            "Epoch 60/100\n",
            "400/400 [==============================] - 77s 190ms/step - loss: 1.2440e-04 - accuracy: 0.6513 - val_loss: 0.6878 - val_accuracy: 0.6330 - lr: 1.0000e-07\n",
            "Epoch 61/100\n",
            "400/400 [==============================] - 82s 205ms/step - loss: 1.2441e-04 - accuracy: 0.6509 - val_loss: 0.6878 - val_accuracy: 0.6330 - lr: 1.0000e-07\n",
            "Epoch 62/100\n",
            "400/400 [==============================] - 76s 190ms/step - loss: 1.2455e-04 - accuracy: 0.6494 - val_loss: 0.6878 - val_accuracy: 0.6330 - lr: 1.0000e-08\n",
            "Epoch 63/100\n",
            "400/400 [==============================] - 82s 204ms/step - loss: 1.2450e-04 - accuracy: 0.6500 - val_loss: 0.6878 - val_accuracy: 0.6330 - lr: 1.0000e-08\n",
            "Epoch 64/100\n",
            "400/400 [==============================] - 76s 189ms/step - loss: 1.2442e-04 - accuracy: 0.6509 - val_loss: 0.6878 - val_accuracy: 0.6330 - lr: 1.0000e-08\n",
            "Epoch 65/100\n",
            "400/400 [==============================] - 76s 189ms/step - loss: 1.2456e-04 - accuracy: 0.6494 - val_loss: 0.6878 - val_accuracy: 0.6330 - lr: 1.0000e-08\n",
            "Epoch 66/100\n",
            "400/400 [==============================] - 76s 188ms/step - loss: 1.2445e-04 - accuracy: 0.6506 - val_loss: 0.6878 - val_accuracy: 0.6330 - lr: 1.0000e-08\n",
            "Epoch 67/100\n",
            "400/400 [==============================] - 82s 204ms/step - loss: 1.2459e-04 - accuracy: 0.6491 - val_loss: 0.6878 - val_accuracy: 0.6330 - lr: 1.0000e-08\n",
            "Epoch 68/100\n",
            "400/400 [==============================] - 76s 189ms/step - loss: 1.2454e-04 - accuracy: 0.6497 - val_loss: 0.6878 - val_accuracy: 0.6330 - lr: 1.0000e-08\n",
            "Epoch 69/100\n",
            "400/400 [==============================] - 76s 188ms/step - loss: 1.2448e-04 - accuracy: 0.6503 - val_loss: 0.6878 - val_accuracy: 0.6330 - lr: 1.0000e-08\n",
            "Epoch 70/100\n",
            "400/400 [==============================] - 76s 188ms/step - loss: 1.2448e-04 - accuracy: 0.6503 - val_loss: 0.6878 - val_accuracy: 0.6330 - lr: 1.0000e-08\n",
            "Epoch 71/100\n",
            "400/400 [==============================] - 76s 188ms/step - loss: 1.2434e-04 - accuracy: 0.6519 - val_loss: 0.6878 - val_accuracy: 0.6330 - lr: 1.0000e-08\n",
            "Epoch 72/100\n",
            "400/400 [==============================] - 76s 188ms/step - loss: 1.2445e-04 - accuracy: 0.6506 - val_loss: 0.6878 - val_accuracy: 0.6330 - lr: 1.0000e-09\n",
            "Epoch 73/100\n",
            "400/400 [==============================] - 82s 204ms/step - loss: 1.2445e-04 - accuracy: 0.6506 - val_loss: 0.6878 - val_accuracy: 0.6330 - lr: 1.0000e-09\n",
            "Epoch 74/100\n",
            "400/400 [==============================] - 75s 188ms/step - loss: 1.2440e-04 - accuracy: 0.6513 - val_loss: 0.6878 - val_accuracy: 0.6330 - lr: 1.0000e-09\n",
            "Epoch 75/100\n",
            "400/400 [==============================] - 82s 204ms/step - loss: 1.2450e-04 - accuracy: 0.6500 - val_loss: 0.6878 - val_accuracy: 0.6330 - lr: 1.0000e-09\n",
            "Epoch 76/100\n",
            "400/400 [==============================] - 76s 190ms/step - loss: 1.2440e-04 - accuracy: 0.6513 - val_loss: 0.6878 - val_accuracy: 0.6330 - lr: 1.0000e-09\n",
            "Epoch 77/100\n",
            "400/400 [==============================] - 76s 189ms/step - loss: 1.2449e-04 - accuracy: 0.6500 - val_loss: 0.6878 - val_accuracy: 0.6330 - lr: 1.0000e-09\n",
            "Epoch 78/100\n",
            "400/400 [==============================] - 76s 190ms/step - loss: 1.2442e-04 - accuracy: 0.6509 - val_loss: 0.6878 - val_accuracy: 0.6330 - lr: 1.0000e-09\n",
            "Epoch 79/100\n",
            "400/400 [==============================] - 76s 189ms/step - loss: 1.2442e-04 - accuracy: 0.6509 - val_loss: 0.6878 - val_accuracy: 0.6330 - lr: 1.0000e-09\n",
            "Epoch 80/100\n",
            "400/400 [==============================] - 76s 189ms/step - loss: 1.2440e-04 - accuracy: 0.6513 - val_loss: 0.6878 - val_accuracy: 0.6330 - lr: 1.0000e-09\n",
            "Epoch 81/100\n",
            "400/400 [==============================] - 82s 204ms/step - loss: 1.2445e-04 - accuracy: 0.6506 - val_loss: 0.6878 - val_accuracy: 0.6330 - lr: 1.0000e-09\n",
            "Epoch 82/100\n",
            "400/400 [==============================] - 82s 204ms/step - loss: 1.2445e-04 - accuracy: 0.6506 - val_loss: 0.6878 - val_accuracy: 0.6330 - lr: 1.0000e-10\n",
            "Epoch 83/100\n",
            "400/400 [==============================] - 82s 205ms/step - loss: 1.2445e-04 - accuracy: 0.6506 - val_loss: 0.6878 - val_accuracy: 0.6330 - lr: 1.0000e-10\n",
            "Epoch 84/100\n",
            "400/400 [==============================] - 76s 190ms/step - loss: 1.2448e-04 - accuracy: 0.6503 - val_loss: 0.6878 - val_accuracy: 0.6330 - lr: 1.0000e-10\n",
            "Epoch 85/100\n",
            "400/400 [==============================] - 82s 204ms/step - loss: 1.2448e-04 - accuracy: 0.6503 - val_loss: 0.6878 - val_accuracy: 0.6330 - lr: 1.0000e-10\n",
            "Epoch 86/100\n",
            "400/400 [==============================] - 76s 189ms/step - loss: 1.2440e-04 - accuracy: 0.6513 - val_loss: 0.6878 - val_accuracy: 0.6330 - lr: 1.0000e-10\n",
            "Epoch 87/100\n",
            "400/400 [==============================] - 82s 204ms/step - loss: 1.2445e-04 - accuracy: 0.6506 - val_loss: 0.6878 - val_accuracy: 0.6330 - lr: 1.0000e-10\n",
            "Epoch 88/100\n",
            "400/400 [==============================] - 76s 190ms/step - loss: 1.2448e-04 - accuracy: 0.6503 - val_loss: 0.6878 - val_accuracy: 0.6330 - lr: 1.0000e-10\n",
            "Epoch 89/100\n",
            "400/400 [==============================] - 77s 191ms/step - loss: 1.2448e-04 - accuracy: 0.6503 - val_loss: 0.6878 - val_accuracy: 0.6330 - lr: 1.0000e-10\n",
            "Epoch 90/100\n",
            "400/400 [==============================] - 76s 190ms/step - loss: 1.2437e-04 - accuracy: 0.6513 - val_loss: 0.6878 - val_accuracy: 0.6330 - lr: 1.0000e-10\n",
            "Epoch 91/100\n",
            "400/400 [==============================] - 76s 190ms/step - loss: 1.2426e-04 - accuracy: 0.6528 - val_loss: 0.6878 - val_accuracy: 0.6330 - lr: 1.0000e-10\n",
            "Epoch 92/100\n",
            "400/400 [==============================] - 76s 190ms/step - loss: 1.2440e-04 - accuracy: 0.6513 - val_loss: 0.6878 - val_accuracy: 0.6330 - lr: 1.0000e-11\n",
            "Epoch 93/100\n",
            "400/400 [==============================] - 76s 190ms/step - loss: 1.2444e-04 - accuracy: 0.6509 - val_loss: 0.6878 - val_accuracy: 0.6330 - lr: 1.0000e-11\n",
            "Epoch 94/100\n",
            "400/400 [==============================] - 82s 205ms/step - loss: 1.2445e-04 - accuracy: 0.6506 - val_loss: 0.6878 - val_accuracy: 0.6330 - lr: 1.0000e-11\n",
            "Epoch 95/100\n",
            "400/400 [==============================] - 76s 190ms/step - loss: 1.2453e-04 - accuracy: 0.6497 - val_loss: 0.6878 - val_accuracy: 0.6330 - lr: 1.0000e-11\n",
            "Epoch 96/100\n",
            "400/400 [==============================] - 76s 190ms/step - loss: 1.2437e-04 - accuracy: 0.6516 - val_loss: 0.6878 - val_accuracy: 0.6330 - lr: 1.0000e-11\n",
            "Epoch 97/100\n",
            "400/400 [==============================] - 76s 190ms/step - loss: 1.2460e-04 - accuracy: 0.6488 - val_loss: 0.6878 - val_accuracy: 0.6330 - lr: 1.0000e-11\n",
            "Epoch 98/100\n",
            "400/400 [==============================] - 76s 190ms/step - loss: 1.2440e-04 - accuracy: 0.6513 - val_loss: 0.6878 - val_accuracy: 0.6330 - lr: 1.0000e-11\n",
            "Epoch 99/100\n",
            "400/400 [==============================] - 82s 204ms/step - loss: 1.2450e-04 - accuracy: 0.6500 - val_loss: 0.6878 - val_accuracy: 0.6330 - lr: 1.0000e-11\n",
            "Epoch 100/100\n",
            "400/400 [==============================] - 76s 190ms/step - loss: 1.2440e-04 - accuracy: 0.6513 - val_loss: 0.6878 - val_accuracy: 0.6330 - lr: 1.0000e-11\n",
            "0\n"
          ]
        }
      ]
    },
    {
      "cell_type": "markdown",
      "source": [],
      "metadata": {
        "id": "K3k31x-PK-fM"
      }
    },
    {
      "cell_type": "code",
      "source": [
        "  # ! du -sh /content/drive/MyDrive/ML-AI_capstone_project/models/m_2023-06-03-1415_model_81_epochs"
      ],
      "metadata": {
        "id": "Q0TCYyGo2V3m",
        "colab": {
          "base_uri": "https://localhost:8080/"
        },
        "outputId": "e4834558-97f3-4ba5-f4b1-6c422860a13c"
      },
      "execution_count": null,
      "outputs": [
        {
          "output_type": "stream",
          "name": "stdout",
          "text": [
            "1.3G\t/content/drive/MyDrive/ML-AI_capstone_project/models/m_2023-06-03-1415_model_81_epochs\n"
          ]
        }
      ]
    },
    {
      "cell_type": "code",
      "source": [
        "# ! find /content/ -name '*ckpt*'"
      ],
      "metadata": {
        "id": "QxYU0uVk4Hug"
      },
      "execution_count": null,
      "outputs": []
    },
    {
      "cell_type": "code",
      "execution_count": null,
      "metadata": {
        "id": "sY188GFX6xty",
        "colab": {
          "base_uri": "https://localhost:8080/"
        },
        "outputId": "c4bc1567-7f5b-4c0c-eea2-46cd8ec20afd"
      },
      "outputs": [
        {
          "output_type": "stream",
          "name": "stderr",
          "text": [
            "WARNING:absl:Found untraced functions such as _jit_compiled_convolution_op, _jit_compiled_convolution_op, _jit_compiled_convolution_op, _jit_compiled_convolution_op, _jit_compiled_convolution_op while saving (showing 5 of 53). These functions will not be directly callable after loading.\n"
          ]
        }
      ],
      "source": [
        "\n",
        "# final_model.save_weights(f'{drive_project_folder_path}/models/2023-05-29_weights_SGD_resnet')\n",
        "# final_model.save_weights(f'{drive_project_folder_path}/models/2023-06-03_512dense_240x320res_adam_resnet_noimagenet')\n",
        "final_model.save(f'{drive_project_folder_path}/models/{model_name}_model')"
      ]
    },
    {
      "cell_type": "code",
      "source": [],
      "metadata": {
        "id": "8r1euEpIBYGW"
      },
      "execution_count": null,
      "outputs": []
    },
    {
      "cell_type": "markdown",
      "source": [
        "### model evaluation"
      ],
      "metadata": {
        "id": "Mj5lQfdGalAh"
      }
    },
    {
      "cell_type": "code",
      "source": [
        "import tensorflow.keras as keras\n",
        "final_model=keras.models.load_model('/content/drive/MyDrive/ML-AI_capstone_project/models/m_2023-06-03-1415_model')\n"
      ],
      "metadata": {
        "id": "3YceukxwVy8B"
      },
      "execution_count": 37,
      "outputs": []
    },
    {
      "cell_type": "code",
      "source": [
        "# from keras.optimizers import SGD, Adam,RMSprop\n",
        "# final_model.compile(\n",
        "#     optimizer=SGD(0.01),\n",
        "#     # optimizer=RMSprop(lr=0.01),\n",
        "\n",
        "#     # optimizer=SGD(lr=0.01),\n",
        "#     # optimizer=Adam(lr=0.001),\n",
        "\n",
        "#     loss=\"binary_crossentropy\",\n",
        "#     metrics=[\"accuracy\"]\n",
        "# )\n",
        "final_model.evaluate(test_img_set_tfds)"
      ],
      "metadata": {
        "colab": {
          "base_uri": "https://localhost:8080/"
        },
        "id": "ZDK4EyIhao4N",
        "outputId": "63abec0e-3187-4cd3-8e57-a5afa41757b8"
      },
      "execution_count": 84,
      "outputs": [
        {
          "output_type": "stream",
          "name": "stdout",
          "text": [
            "277/277 [==============================] - 594s 2s/step - loss: 0.6875 - accuracy: 0.6411\n"
          ]
        },
        {
          "output_type": "execute_result",
          "data": {
            "text/plain": [
              "[0.6874733567237854, 0.6410835385322571]"
            ]
          },
          "metadata": {},
          "execution_count": 84
        }
      ]
    },
    {
      "cell_type": "code",
      "source": [
        "eval_accuracy_keras=0.6411"
      ],
      "metadata": {
        "colab": {
          "base_uri": "https://localhost:8080/",
          "height": 132
        },
        "id": "63DRCUzcao7C",
        "outputId": "14458aa6-403e-40fb-e7a2-2f7fd30a4594"
      },
      "execution_count": 85,
      "outputs": [
        {
          "output_type": "error",
          "ename": "SyntaxError",
          "evalue": "ignored",
          "traceback": [
            "\u001b[0;36m  File \u001b[0;32m\"<ipython-input-85-2c1a4c38c080>\"\u001b[0;36m, line \u001b[0;32m1\u001b[0m\n\u001b[0;31m    =final_model.predict(test_img_set_tfds)\u001b[0m\n\u001b[0m    ^\u001b[0m\n\u001b[0;31mSyntaxError\u001b[0m\u001b[0;31m:\u001b[0m invalid syntax\n"
          ]
        }
      ]
    },
    {
      "cell_type": "code",
      "source": [
        "pred_obj=final_model.predict(test_img_set_tfds)"
      ],
      "metadata": {
        "colab": {
          "base_uri": "https://localhost:8080/"
        },
        "id": "RUQOOUX0ao-I",
        "outputId": "d3e6bd08-0c47-4e0e-a3bc-595896486e01"
      },
      "execution_count": 39,
      "outputs": [
        {
          "output_type": "stream",
          "name": "stdout",
          "text": [
            "277/277 [==============================] - 746s 3s/step\n"
          ]
        }
      ]
    },
    {
      "cell_type": "code",
      "source": [],
      "metadata": {
        "colab": {
          "base_uri": "https://localhost:8080/",
          "height": 38
        },
        "id": "BSAULrbOWpHq",
        "outputId": "23206dc3-f080-475e-bf2b-0cd5b7b4c1ca"
      },
      "execution_count": 38,
      "outputs": [
        {
          "output_type": "execute_result",
          "data": {
            "text/plain": [
              "'/content/drive/MyDrive/ML-AI_capstone_project'"
            ],
            "application/vnd.google.colaboratory.intrinsic+json": {
              "type": "string"
            }
          },
          "metadata": {},
          "execution_count": 38
        }
      ]
    },
    {
      "cell_type": "code",
      "source": [
        "import pickle\n",
        "\n",
        "exampleObj = pred_obj\n",
        "\n",
        "fileObj = open(f'{drive_project_folder_path}/models/2023-06-11_y_pred_np_arr.pkl', 'wb')\n",
        "pickle.dump(exampleObj,fileObj)\n",
        "fileObj.close()"
      ],
      "metadata": {
        "id": "Bol93XBhapBY"
      },
      "execution_count": 41,
      "outputs": []
    },
    {
      "cell_type": "code",
      "source": [
        "print(pred_obj.shape)\n",
        "count=0\n",
        "for y in pred_obj:\n",
        "    print(y)\n",
        "    count+=1\n",
        "    if count >= 0:\n",
        "      break"
      ],
      "metadata": {
        "colab": {
          "base_uri": "https://localhost:8080/"
        },
        "id": "bWMozIzLljBr",
        "outputId": "54cb6214-877b-487f-a38d-7c4c369dfd50"
      },
      "execution_count": 91,
      "outputs": [
        {
          "output_type": "stream",
          "name": "stdout",
          "text": [
            "(2215, 1)\n",
            "[0.5104368]\n"
          ]
        }
      ]
    },
    {
      "cell_type": "code",
      "source": [
        "y_true = np.concatenate([y for x, y in test_img_set_tfds], axis=0)\n",
        "print(y_true)"
      ],
      "metadata": {
        "colab": {
          "base_uri": "https://localhost:8080/"
        },
        "id": "mKp2vGgrapEQ",
        "outputId": "f56439a3-a124-4b2b-d4a9-c9b9ee1863dc"
      },
      "execution_count": 44,
      "outputs": [
        {
          "output_type": "stream",
          "name": "stdout",
          "text": [
            "[1. 0. 1. ... 0. 1. 1.]\n"
          ]
        }
      ]
    },
    {
      "cell_type": "code",
      "source": [
        "y_true=y_true.astype(np.int)\n",
        "print(y_true.shape)\n",
        "print(y_true)"
      ],
      "metadata": {
        "colab": {
          "base_uri": "https://localhost:8080/"
        },
        "id": "FyB6Zim2mU3W",
        "outputId": "58823832-97b3-461c-b531-8904896b1aea"
      },
      "execution_count": 45,
      "outputs": [
        {
          "output_type": "stream",
          "name": "stdout",
          "text": [
            "(2215,)\n",
            "[1 0 1 ... 0 1 1]\n"
          ]
        },
        {
          "output_type": "stream",
          "name": "stderr",
          "text": [
            "<ipython-input-45-fff223a36ef0>:1: DeprecationWarning: `np.int` is a deprecated alias for the builtin `int`. To silence this warning, use `int` by itself. Doing this will not modify any behavior and is safe. When replacing `np.int`, you may wish to use e.g. `np.int64` or `np.int32` to specify the precision. If you wish to review your current use, check the release note link for additional information.\n",
            "Deprecated in NumPy 1.20; for more details and guidance: https://numpy.org/devdocs/release/1.20.0-notes.html#deprecations\n",
            "  y_true=y_true.astype(np.int)\n"
          ]
        }
      ]
    },
    {
      "cell_type": "code",
      "source": [
        "pred_obj\n",
        "y_pred=pred_obj > 0.5\n",
        "y_pred=y_pred.astype(np.int)\n",
        "y_pred=y_pred.flatten()\n",
        "print(y_pred)"
      ],
      "metadata": {
        "colab": {
          "base_uri": "https://localhost:8080/"
        },
        "id": "RVawAVFhmeR5",
        "outputId": "3438645a-b469-48b4-d214-9a8b36901e88"
      },
      "execution_count": 46,
      "outputs": [
        {
          "output_type": "stream",
          "name": "stdout",
          "text": [
            "[1 1 1 ... 1 1 1]\n"
          ]
        },
        {
          "output_type": "stream",
          "name": "stderr",
          "text": [
            "<ipython-input-46-b7c6b97454ca>:3: DeprecationWarning: `np.int` is a deprecated alias for the builtin `int`. To silence this warning, use `int` by itself. Doing this will not modify any behavior and is safe. When replacing `np.int`, you may wish to use e.g. `np.int64` or `np.int32` to specify the precision. If you wish to review your current use, check the release note link for additional information.\n",
            "Deprecated in NumPy 1.20; for more details and guidance: https://numpy.org/devdocs/release/1.20.0-notes.html#deprecations\n",
            "  y_pred=y_pred.astype(np.int)\n"
          ]
        }
      ]
    },
    {
      "cell_type": "code",
      "source": [
        "from sklearn import metrics\n",
        "acc=metrics.accuracy_score(y_true,y_pred)\n",
        "print(acc)"
      ],
      "metadata": {
        "colab": {
          "base_uri": "https://localhost:8080/"
        },
        "id": "1dziImWJmvIW",
        "outputId": "6b445dec-7151-4431-a541-4e4d10b270e3"
      },
      "execution_count": 47,
      "outputs": [
        {
          "output_type": "stream",
          "name": "stdout",
          "text": [
            "0.6410835214446953\n"
          ]
        }
      ]
    },
    {
      "cell_type": "code",
      "source": [
        "\n",
        "### to study the accuracy of the classification model (without any hyperparameter tuning) \n",
        "\n",
        "\n",
        "from sklearn import metrics\n",
        "from matplotlib import pyplot as plt\n",
        "\n",
        "### confusion matrix\n",
        "y_test=y_true\n",
        "confusion_matrix= metrics.confusion_matrix(y_test,y_pred)\n",
        "# display_labels=[0,1] ## (manual)\n",
        "cm_display= metrics.ConfusionMatrixDisplay(confusion_matrix=confusion_matrix )\n",
        "cm_display.plot()\n",
        "plt.show()\n",
        "\n",
        "\n",
        "### accuracy metrics\n",
        "accuracy= metrics.accuracy_score(y_test,y_pred)\n",
        "# recall= metrics.recall_score(y_test,y_pred,average='macro')\n",
        "recall= metrics.recall_score(y_test,y_pred)\n",
        "recall0= metrics.recall_score(y_test,y_pred,pos_label=0)\n",
        "\n",
        "precision= metrics.precision_score(y_test,y_pred)\n",
        "precision0= metrics.precision_score(y_test,y_pred,pos_label=0)\n",
        "\n",
        "f_score= 2*recall*precision/(recall+precision)\n",
        "\n",
        "print('accuracy is ',accuracy, '\\n')\n",
        "print('recall for class 1 (female) is ',recall, '\\n')\n",
        "print('precision for class 1 is ',precision, '\\n')\n",
        "print('recall for class 0 (male) is ',recall0, '\\n')\n",
        "print('precision for class 0 is ',precision0, '\\n')\n",
        "\n",
        "print('f_score is for class 1',f_score, '\\n')\n",
        "\n",
        "# result_dict.update({str(type(algo_class).__name__):{'accuracy':accuracy, 'recall':recall,'precision':precision,'f_score':f_score}})\n",
        "\n",
        "\n",
        "### bias and variance\n",
        "# error_rate=1-accuracy\n",
        "# train_accuracy=  metrics.accuracy_score(y_train,y_train_pred) \n",
        "# variance_measure=np.abs(train_accuracy - accuracy)\n",
        "# print('a measure of bias =',error_rate,'\\na measure of variance =',variance_measure)"
      ],
      "metadata": {
        "colab": {
          "base_uri": "https://localhost:8080/",
          "height": 713
        },
        "id": "Ywr7oj3WodPH",
        "outputId": "e7519128-c281-486d-eed0-ba539134a30f"
      },
      "execution_count": 48,
      "outputs": [
        {
          "output_type": "display_data",
          "data": {
            "text/plain": [
              "<Figure size 640x480 with 2 Axes>"
            ],
            "image/png": "[encoded data removed]"
          },
          "metadata": {}
        },
        {
          "output_type": "stream",
          "name": "stdout",
          "text": [
            "accuracy is  0.6410835214446953 \n",
            "\n",
            "recall for class 1 (female) is  1.0 \n",
            "\n",
            "precision for class 1 is  0.6410835214446953 \n",
            "\n",
            "recall for class 0 (male) is  0.0 \n",
            "\n",
            "precision for class 0 is  0.0 \n",
            "\n",
            "f_score is for class 1 0.781292984869326 \n",
            "\n"
          ]
        },
        {
          "output_type": "stream",
          "name": "stderr",
          "text": [
            "/usr/local/lib/python3.10/dist-packages/sklearn/metrics/_classification.py:1344: UndefinedMetricWarning: Precision is ill-defined and being set to 0.0 due to no predicted samples. Use `zero_division` parameter to control this behavior.\n",
            "  _warn_prf(average, modifier, msg_start, len(result))\n"
          ]
        }
      ]
    },
    {
      "cell_type": "code",
      "source": [
        "### confidence interval\n",
        "error=1-accuracy\n",
        "const=1.96 ## for 95% confidence interval\n",
        "n= len(y_test)\n",
        "delta= const * np.sqrt( (error * (1 - error)) / n)\n",
        "print(delta)\n",
        "confidence_interval=[round(np.positive(acc-delta),2),round(acc+delta,2)]\n",
        "print(f'it is 95% likely that the model will have an accuracy in the interval of {confidence_interval} when predicting unseen data')"
      ],
      "metadata": {
        "colab": {
          "base_uri": "https://localhost:8080/"
        },
        "id": "oniYxIrBpd6h",
        "outputId": "33b622db-877f-4514-b1f6-2c0134415393"
      },
      "execution_count": 49,
      "outputs": [
        {
          "output_type": "stream",
          "name": "stdout",
          "text": [
            "0.01997667536308177\n",
            "it is 95% likely that the model will have an accuracy in the interval of [0.62, 0.66] when predicting unseen data\n"
          ]
        }
      ]
    },
    {
      "cell_type": "markdown",
      "source": [
        "### flask"
      ],
      "metadata": {
        "id": "Rke_I9SoI2j0"
      }
    },
    {
      "cell_type": "code",
      "source": [
        "import tensorflow as tf\n",
        "import tensorflow.keras as keras"
      ],
      "metadata": {
        "id": "ROgtp8sJI_Vj"
      },
      "execution_count": 16,
      "outputs": []
    },
    {
      "cell_type": "code",
      "source": [
        "final_model=keras.models.load_model('/content/drive/MyDrive/ML-AI_capstone_project/models/m_2023-06-03-1415_model')\n",
        "img_resize_shape=(240,320)"
      ],
      "metadata": {
        "id": "9G9216nOI5E7"
      },
      "execution_count": 17,
      "outputs": []
    },
    {
      "cell_type": "code",
      "source": [
        "### predicting a sample image \n",
        "\n",
        "sample_img_arr=cv2.imread('/content/Hands/Hands/Hand_0000267.jpg')\n",
        "def preprocess_sample_img(img,img_size_tuple):\n",
        "    img_resized_arr=cv2.resize(img,(320,240))\n",
        "    img_resized_arr = np.expand_dims(img_resized_arr, axis=0)\n",
        "    # img_resized_arr.shape\n",
        "    return img_resized_arr\n",
        "\n",
        "\n",
        "preprocessed_samp_img= preprocess_sample_img(sample_img_arr,(320,240))\n",
        "sample_pred=final_model.predict(preprocess_sample_img(sample_img_arr,(320,240)))\n",
        "prediction_probabilities = final_model(preprocessed_samp_img, training=False)[0]\n",
        "node_val=sample_pred[0,0]\n",
        "\n",
        "if node_val > 0.5 :\n",
        "    label='female'\n",
        "    confidence_leafpy=prediction_probabilities[0,0]\n",
        "    # confidence= round((np.abs((node_val-0.5))/0.5)*100,3)\n",
        "else:\n",
        "    label='male'\n",
        "    confidence_leafpy=1-prediction_probabilities[0,0]\n",
        "\n",
        "    # confidence= round((np.abs((node_val-0.5))/0.5)*100,3)\n",
        "\n",
        "output = {\n",
        "    \"label\": label, \n",
        "    \"confidence\": confidence_leafpy\n",
        "}\n",
        "\n",
        "print(output)"
      ],
      "metadata": {
        "colab": {
          "base_uri": "https://localhost:8080/"
        },
        "id": "gMtAeTyoBYLY",
        "outputId": "347c5765-b5be-442f-fc54-d58f4f2cb92e"
      },
      "execution_count": 42,
      "outputs": [
        {
          "output_type": "stream",
          "name": "stdout",
          "text": [
            "1/1 [==============================] - 0s 325ms/step\n",
            "{'label': 'female', 'confidence': 2.087}\n"
          ]
        }
      ]
    },
    {
      "cell_type": "code",
      "source": [
        "print(prediction_probabilities)"
      ],
      "metadata": {
        "colab": {
          "base_uri": "https://localhost:8080/"
        },
        "id": "d83uSWmNZ9Rz",
        "outputId": "0fc00179-4433-46c7-fdb0-1bb95da77846"
      },
      "execution_count": 43,
      "outputs": [
        {
          "output_type": "stream",
          "name": "stdout",
          "text": [
            "tf.Tensor([0.5104368], shape=(1,), dtype=float32)\n"
          ]
        }
      ]
    },
    {
      "cell_type": "markdown",
      "source": [
        "#### start of unnecessary"
      ],
      "metadata": {
        "id": "_XW1qsQiUI9l"
      }
    },
    {
      "cell_type": "code",
      "source": [
        "# ! python --version\n",
        "\n",
        "# ! apt install python3.9"
      ],
      "metadata": {
        "id": "e6J6ZorqfQNH"
      },
      "execution_count": null,
      "outputs": []
    },
    {
      "cell_type": "code",
      "source": [
        "# ! ln -sf /usr/bin/python3.9 /usr/local/bin/python"
      ],
      "metadata": {
        "id": "1Ai9p3cWf5lG"
      },
      "execution_count": null,
      "outputs": []
    },
    {
      "cell_type": "code",
      "source": [
        "! which python\n",
        "! python --version "
      ],
      "metadata": {
        "colab": {
          "base_uri": "https://localhost:8080/"
        },
        "id": "nI7CvVnhgG7a",
        "outputId": "5b011f22-8985-4f70-9df0-4576953d8832"
      },
      "execution_count": null,
      "outputs": [
        {
          "output_type": "stream",
          "name": "stdout",
          "text": [
            "/usr/local/bin/python\n",
            "Python 3.10.12\n"
          ]
        }
      ]
    },
    {
      "cell_type": "code",
      "source": [
        "##### ! update-alternatives --config python3 <<< $'2\\n'\n",
        "#### !apt install python3-pip"
      ],
      "metadata": {
        "colab": {
          "base_uri": "https://localhost:8080/"
        },
        "id": "Qmw2DbgZhpIu",
        "outputId": "e221cda8-3c6a-4c38-bc41-4c2e833d2f41"
      },
      "execution_count": null,
      "outputs": [
        {
          "output_type": "stream",
          "name": "stdout",
          "text": [
            "There are 2 choices for the alternative python3 (providing /usr/bin/python3).\n",
            "\n",
            "  Selection    Path                 Priority   Status\n",
            "------------------------------------------------------------\n",
            "* 0            /usr/bin/python3.10   2         auto mode\n",
            "  1            /usr/bin/python3.10   2         manual mode\n",
            "  2            /usr/bin/python3.8    1         manual mode\n",
            "\n",
            "Press <enter> to keep the current choice[*], or type selection number: update-alternatives: using /usr/bin/python3.8 to provide /usr/bin/python3 (python3) in manual mode\n"
          ]
        }
      ]
    },
    {
      "cell_type": "code",
      "source": [
        "# ! python --version"
      ],
      "metadata": {
        "colab": {
          "base_uri": "https://localhost:8080/"
        },
        "id": "MBFFGtdljrxz",
        "outputId": "f11e81b6-87c8-4a0a-ac95-295c0b00802e"
      },
      "execution_count": null,
      "outputs": [
        {
          "output_type": "stream",
          "name": "stdout",
          "text": [
            "Python 3.8.10\n"
          ]
        }
      ]
    },
    {
      "cell_type": "code",
      "source": [],
      "metadata": {
        "colab": {
          "base_uri": "https://localhost:8080/"
        },
        "id": "1EmZ_98OjwJj",
        "outputId": "4ccc4b96-d64c-41ac-f668-66c17936bb73"
      },
      "execution_count": null,
      "outputs": [
        {
          "output_type": "stream",
          "name": "stdout",
          "text": [
            "Reading package lists... Done\n",
            "Building dependency tree       \n",
            "Reading state information... Done\n",
            "The following additional packages will be installed:\n",
            "  python-pip-whl python3-setuptools python3-wheel\n",
            "Suggested packages:\n",
            "  python-setuptools-doc\n",
            "The following NEW packages will be installed:\n",
            "  python-pip-whl python3-pip python3-setuptools python3-wheel\n",
            "0 upgraded, 4 newly installed, 0 to remove and 38 not upgraded.\n",
            "Need to get 2,389 kB of archives.\n",
            "After this operation, 4,933 kB of additional disk space will be used.\n",
            "Get:1 http://archive.ubuntu.com/ubuntu focal-updates/universe amd64 python-pip-whl all 20.0.2-5ubuntu1.8 [1,805 kB]\n",
            "Get:2 http://archive.ubuntu.com/ubuntu focal-updates/main amd64 python3-setuptools all 45.2.0-1ubuntu0.1 [330 kB]\n",
            "Get:3 http://archive.ubuntu.com/ubuntu focal-updates/universe amd64 python3-wheel all 0.34.2-1ubuntu0.1 [23.9 kB]\n",
            "Get:4 http://archive.ubuntu.com/ubuntu focal-updates/universe amd64 python3-pip all 20.0.2-5ubuntu1.8 [231 kB]\n",
            "Fetched 2,389 kB in 1s (2,355 kB/s)\n",
            "Selecting previously unselected package python-pip-whl.\n",
            "(Reading database ... 122541 files and directories currently installed.)\n",
            "Preparing to unpack .../python-pip-whl_20.0.2-5ubuntu1.8_all.deb ...\n",
            "Unpacking python-pip-whl (20.0.2-5ubuntu1.8) ...\n",
            "Selecting previously unselected package python3-setuptools.\n",
            "Preparing to unpack .../python3-setuptools_45.2.0-1ubuntu0.1_all.deb ...\n",
            "Unpacking python3-setuptools (45.2.0-1ubuntu0.1) ...\n",
            "Selecting previously unselected package python3-wheel.\n",
            "Preparing to unpack .../python3-wheel_0.34.2-1ubuntu0.1_all.deb ...\n",
            "Unpacking python3-wheel (0.34.2-1ubuntu0.1) ...\n",
            "Selecting previously unselected package python3-pip.\n",
            "Preparing to unpack .../python3-pip_20.0.2-5ubuntu1.8_all.deb ...\n",
            "Unpacking python3-pip (20.0.2-5ubuntu1.8) ...\n",
            "Setting up python3-setuptools (45.2.0-1ubuntu0.1) ...\n",
            "Setting up python3-wheel (0.34.2-1ubuntu0.1) ...\n",
            "Setting up python-pip-whl (20.0.2-5ubuntu1.8) ...\n",
            "Setting up python3-pip (20.0.2-5ubuntu1.8) ...\n",
            "Processing triggers for man-db (2.9.1-1) ...\n"
          ]
        }
      ]
    },
    {
      "cell_type": "code",
      "source": [],
      "metadata": {
        "colab": {
          "base_uri": "https://localhost:8080/"
        },
        "id": "fhhiTL6aoK6e",
        "outputId": "bdc1cbf0-1da1-47b7-f274-f4c0a19e2021"
      },
      "execution_count": null,
      "outputs": [
        {
          "output_type": "stream",
          "name": "stdout",
          "text": [
            "\u001b[K     |████████████████████████████████| 797 kB 4.2 MB/s \n",
            "\u001b[K     |████████████████████████████████| 1.6 MB 52.8 MB/s \n",
            "\u001b[K     |████████████████████████████████| 117 kB 59.5 MB/s \n",
            "\u001b[K     |████████████████████████████████| 1.1 MB 48.1 MB/s \n",
            "\u001b[K     |████████████████████████████████| 385 kB 49.1 MB/s \n",
            "\u001b[K     |████████████████████████████████| 59 kB 3.7 MB/s \n",
            "\u001b[K     |████████████████████████████████| 100 kB 8.0 MB/s \n",
            "\u001b[K     |████████████████████████████████| 152 kB 4.3 MB/s \n",
            "\u001b[K     |████████████████████████████████| 3.1 MB 23.7 MB/s \n",
            "\u001b[K     |████████████████████████████████| 1.1 MB 68.8 MB/s \n",
            "\u001b[K     |████████████████████████████████| 93 kB 799 kB/s \n",
            "\u001b[K     |████████████████████████████████| 282 kB 60.1 MB/s \n",
            "\u001b[K     |████████████████████████████████| 426 kB 58.9 MB/s \n",
            "\u001b[K     |████████████████████████████████| 103 kB 59.9 MB/s \n",
            "\u001b[K     |████████████████████████████████| 48 kB 3.9 MB/s \n",
            "\u001b[K     |████████████████████████████████| 247 kB 50.9 MB/s \n",
            "\u001b[?25h"
          ]
        }
      ]
    },
    {
      "cell_type": "markdown",
      "source": [
        "#### end of unnecessary"
      ],
      "metadata": {
        "id": "ETgVLf-ahn5l"
      }
    },
    {
      "cell_type": "code",
      "source": [
        "## code source :  https://blog.devgenius.io/how-to-deploy-keras-models-to-production-beginners-welcome-1fbfab19d3f6\n",
        "# Prevent ImportErrors w/ flask\n",
        "! pip install werkzeug==2.0.3\n",
        "# from collections.abc import MutableMapping\n",
        "\n",
        "import werkzeug\n",
        "werkzeug.cached_property = werkzeug.utils.cached_property\n",
        "from werkzeug.datastructures import FileStorage\n",
        "### ML/Data processing\n",
        "# import tensorflow.keras as keras\n",
        "# from tensorflow.keras.models import load_model\n",
        "### RESTful API packages\n",
        "\n",
        "# import flask.scaffold\n",
        "# flask.helpers._endpoint_from_view_func = flask.scaffold._endpoint_from_view_func\n",
        "! pip install flask==2.1.3\n",
        "from flask import Flask\n",
        "import flask.scaffold\n",
        "flask.helpers._endpoint_from_view_func = flask.scaffold._endpoint_from_view_func\n",
        "! pip install flask-restplus\n",
        "from flask_restplus import Api, Resource\n",
        "# from flask import Flask\n",
        "import cv2\n",
        "\n",
        "# Local utility Functions\n",
        "# from util import leaf\n",
        "\n",
        "\n"
      ],
      "metadata": {
        "colab": {
          "base_uri": "https://localhost:8080/"
        },
        "id": "yCg2FDHv3MBW",
        "outputId": "88fd8277-c6a6-4f2b-fcd7-0c224b275761"
      },
      "execution_count": 28,
      "outputs": [
        {
          "output_type": "stream",
          "name": "stdout",
          "text": [
            "Looking in indexes: https://pypi.org/simple, https://us-python.pkg.dev/colab-wheels/public/simple/\n",
            "Requirement already satisfied: werkzeug==2.0.3 in /usr/local/lib/python3.10/dist-packages (2.0.3)\n",
            "Looking in indexes: https://pypi.org/simple, https://us-python.pkg.dev/colab-wheels/public/simple/\n",
            "Requirement already satisfied: flask==2.1.3 in /usr/local/lib/python3.10/dist-packages (2.1.3)\n",
            "Requirement already satisfied: Werkzeug>=2.0 in /usr/local/lib/python3.10/dist-packages (from flask==2.1.3) (2.0.3)\n",
            "Requirement already satisfied: Jinja2>=3.0 in /usr/local/lib/python3.10/dist-packages (from flask==2.1.3) (3.1.2)\n",
            "Requirement already satisfied: itsdangerous>=2.0 in /usr/local/lib/python3.10/dist-packages (from flask==2.1.3) (2.1.2)\n",
            "Requirement already satisfied: click>=8.0 in /usr/local/lib/python3.10/dist-packages (from flask==2.1.3) (8.1.3)\n",
            "Requirement already satisfied: MarkupSafe>=2.0 in /usr/local/lib/python3.10/dist-packages (from Jinja2>=3.0->flask==2.1.3) (2.1.2)\n",
            "Looking in indexes: https://pypi.org/simple, https://us-python.pkg.dev/colab-wheels/public/simple/\n",
            "Requirement already satisfied: flask-restplus in /usr/local/lib/python3.10/dist-packages (0.13.0)\n",
            "Requirement already satisfied: Flask>=0.8 in /usr/local/lib/python3.10/dist-packages (from flask-restplus) (2.1.3)\n",
            "Requirement already satisfied: aniso8601>=0.82 in /usr/local/lib/python3.10/dist-packages (from flask-restplus) (9.0.1)\n",
            "Requirement already satisfied: jsonschema in /usr/local/lib/python3.10/dist-packages (from flask-restplus) (4.3.3)\n",
            "Requirement already satisfied: pytz in /usr/local/lib/python3.10/dist-packages (from flask-restplus) (2022.7.1)\n",
            "Requirement already satisfied: six>=1.3.0 in /usr/local/lib/python3.10/dist-packages (from flask-restplus) (1.16.0)\n",
            "Requirement already satisfied: Werkzeug>=2.0 in /usr/local/lib/python3.10/dist-packages (from Flask>=0.8->flask-restplus) (2.0.3)\n",
            "Requirement already satisfied: Jinja2>=3.0 in /usr/local/lib/python3.10/dist-packages (from Flask>=0.8->flask-restplus) (3.1.2)\n",
            "Requirement already satisfied: itsdangerous>=2.0 in /usr/local/lib/python3.10/dist-packages (from Flask>=0.8->flask-restplus) (2.1.2)\n",
            "Requirement already satisfied: click>=8.0 in /usr/local/lib/python3.10/dist-packages (from Flask>=0.8->flask-restplus) (8.1.3)\n",
            "Requirement already satisfied: attrs>=17.4.0 in /usr/local/lib/python3.10/dist-packages (from jsonschema->flask-restplus) (23.1.0)\n",
            "Requirement already satisfied: pyrsistent!=0.17.0,!=0.17.1,!=0.17.2,>=0.14.0 in /usr/local/lib/python3.10/dist-packages (from jsonschema->flask-restplus) (0.19.3)\n",
            "Requirement already satisfied: MarkupSafe>=2.0 in /usr/local/lib/python3.10/dist-packages (from Jinja2>=3.0->Flask>=0.8->flask-restplus) (2.1.2)\n"
          ]
        }
      ]
    },
    {
      "cell_type": "code",
      "source": [
        "\n",
        "app = Flask(__name__)\n",
        "\n",
        "\n",
        "\n",
        "api = Api(app, version=\"1.0\", title=\"HandGender API\",\n",
        "description=\"Identify gender from hand images\")\n",
        "ns = api.namespace(\"Gender prediction from hand image\", description=\"Predicts gender from hand image \")\n",
        "\n",
        "\n",
        "\n"
      ],
      "metadata": {
        "id": "k7ojh2MidMVK"
      },
      "execution_count": 72,
      "outputs": []
    },
    {
      "cell_type": "markdown",
      "source": [
        "<!--  -->"
      ],
      "metadata": {
        "id": "zLc1uA_eXIja"
      }
    },
    {
      "cell_type": "code",
      "source": [
        "\n",
        "\n",
        "# app = Flask(__name__)\n",
        "\n",
        "\n",
        "\n",
        "# api = Api(app, version=\"1.0\", title=\"HandGender API\",\n",
        "# description=\"Identify gender from hand images\")\n",
        "# ns = api.namespace(\"namespace_name\", description=\"namespace_desc_arjun\")\n",
        "\n",
        "\n",
        "\n",
        "# Use Flask-RESTPlus argparser to process user-uploaded images\n",
        "arg_parser = api.parser()\n",
        "arg_parser.add_argument('image', location='files', \n",
        "                        type=FileStorage, required=True)\n",
        "# with open(\"./plantnet/inceptionModelArchitecture.json\") as f:\n",
        "#     model = keras.models.model_from_json(f.read())\n",
        "#     model.load_weights(\"./plantnet/inception_model_weights.h5\")# Add the route to run inference\n",
        "\n",
        "# model=keras.models.load_model('./models/m_2023-06-03-1415_model')\n",
        "\n",
        "\n",
        "model=final_model\n",
        "\n",
        "\n",
        "from PIL import Image \n",
        "def get_image(arg_parser): ### see https://github.com/UPstartDeveloper/plantnet-api/blob/main/util/leaf.py\n",
        "    '''Returns a Pillow Image given the uploaded image.'''\n",
        "    args = arg_parser.parse_args()\n",
        "    image_file = args.image  # reading args from file\n",
        "    # print(image_file.type())\n",
        "    return Image.open(image_file) \n",
        "\n",
        "# def preprocess_img_to_load_into_model(img,img_resize_shape)\n",
        "#     img_resized_arr=cv2.resize(img,(320,240))\n",
        "#     img_resized_arr = np.expand_dims(img_resized_arr, axis=0)\n",
        "#     # img_resized_arr.shape\n",
        "#     return img_resized_arr\n",
        "\n",
        "# import tensorflow as tf \n",
        "def preprocess_img_to_load_into_model(image,img_resize_shape):\n",
        "    \"\"\"Converts a PIL.Image into a Tensor of the \n",
        "    right dimensions \n",
        "    \"\"\"\n",
        "    tensor_image = keras.preprocessing.image.img_to_array(image)\n",
        "    resized_img = tf.image.resize(tensor_image, [img_resize_shape[0], img_resize_shape[1]])\n",
        "    final_input = np.expand_dims(resized_img, axis=0)\n",
        "    return final_input\n",
        "\n",
        "\n",
        "@ns.route(\"/prediction\")\n",
        "class CNNPrediction(Resource):\n",
        "    \"\"\"Takes in the image, to pass to the CNN\"\"\"\n",
        "    @api.doc(parser=arg_parser, \n",
        "             description=\"Upload dorsal or ventral image of hand with a clear background to predict gender of the person to which the hand belongs.\")\n",
        "    def post(self):\n",
        "        # A: get the image\n",
        "        image = get_image(arg_parser)\n",
        "        \n",
        "        # B: preprocess the image\n",
        "        # final_image = leaf.preprocess_image(image)\n",
        "        # preprocessed_image=cv2.resize(image,(240,320))\n",
        "        preprocessed_image=preprocess_img_to_load_into_model(image,img_resize_shape)\n",
        "\n",
        "        # C: make the prediction\n",
        "        # prediction = leaf.predict_leaf_health(model, final_image)\n",
        "        node_arr = model.predict(preprocessed_image)\n",
        "        \n",
        "        node_val=node_arr[0,0]\n",
        "        if node_val > 0.5 :\n",
        "            label='female'\n",
        "            confidence= round((np.abs((node_val-0.5))/0.5)*100,3)\n",
        "        else:\n",
        "            label='male'\n",
        "            confidence= round((np.abs((node_val-0.5))/0.5)*100,3)\n",
        "\n",
        "        output = {\n",
        "            \"label\": label, \n",
        "            \"confidence\": f'{confidence}%'\n",
        "        }\n",
        "        # prediction='test_string'\n",
        "        ##### return the classification\n",
        "        return output\n",
        "\n",
        "\n",
        "\n"
      ],
      "metadata": {
        "id": "FkOOQzO7_MgO"
      },
      "execution_count": 73,
      "outputs": []
    },
    {
      "cell_type": "code",
      "source": [
        "# app.run()"
      ],
      "metadata": {
        "id": "lIqPeefBVA42"
      },
      "execution_count": 52,
      "outputs": []
    },
    {
      "cell_type": "code",
      "source": [
        "# !pip install flask-ngrok\n",
        "# !pip install flask-bootstrap"
      ],
      "metadata": {
        "colab": {
          "base_uri": "https://localhost:8080/"
        },
        "id": "4vNJTG4pKkNE",
        "outputId": "61127425-dedf-49a0-a928-88a682eef438"
      },
      "execution_count": 32,
      "outputs": [
        {
          "output_type": "stream",
          "name": "stdout",
          "text": [
            "Looking in indexes: https://pypi.org/simple, https://us-python.pkg.dev/colab-wheels/public/simple/\n",
            "Collecting flask-ngrok\n",
            "  Downloading flask_ngrok-0.0.25-py3-none-any.whl (3.1 kB)\n",
            "Requirement already satisfied: Flask>=0.8 in /usr/local/lib/python3.10/dist-packages (from flask-ngrok) (2.1.3)\n",
            "Requirement already satisfied: requests in /usr/local/lib/python3.10/dist-packages (from flask-ngrok) (2.27.1)\n",
            "Requirement already satisfied: Werkzeug>=2.0 in /usr/local/lib/python3.10/dist-packages (from Flask>=0.8->flask-ngrok) (2.0.3)\n",
            "Requirement already satisfied: Jinja2>=3.0 in /usr/local/lib/python3.10/dist-packages (from Flask>=0.8->flask-ngrok) (3.1.2)\n",
            "Requirement already satisfied: itsdangerous>=2.0 in /usr/local/lib/python3.10/dist-packages (from Flask>=0.8->flask-ngrok) (2.1.2)\n",
            "Requirement already satisfied: click>=8.0 in /usr/local/lib/python3.10/dist-packages (from Flask>=0.8->flask-ngrok) (8.1.3)\n",
            "Requirement already satisfied: urllib3<1.27,>=1.21.1 in /usr/local/lib/python3.10/dist-packages (from requests->flask-ngrok) (1.26.15)\n",
            "Requirement already satisfied: certifi>=2017.4.17 in /usr/local/lib/python3.10/dist-packages (from requests->flask-ngrok) (2022.12.7)\n",
            "Requirement already satisfied: charset-normalizer~=2.0.0 in /usr/local/lib/python3.10/dist-packages (from requests->flask-ngrok) (2.0.12)\n",
            "Requirement already satisfied: idna<4,>=2.5 in /usr/local/lib/python3.10/dist-packages (from requests->flask-ngrok) (3.4)\n",
            "Requirement already satisfied: MarkupSafe>=2.0 in /usr/local/lib/python3.10/dist-packages (from Jinja2>=3.0->Flask>=0.8->flask-ngrok) (2.1.2)\n",
            "Installing collected packages: flask-ngrok\n",
            "Successfully installed flask-ngrok-0.0.25\n"
          ]
        }
      ]
    },
    {
      "cell_type": "code",
      "source": [
        "### got from https://stackoverflow.com/questions/70342717/colab-unable-to-access-webpage-using-flask-ngrok\n",
        "# ! pip install pyngrok==4.1.1\n",
        "# ! ngrok authtoken '2R2XpYI71tb0zvlkZgAtXyFLJSt_4DYRZFVTDxumD2bNABgxv'"
      ],
      "metadata": {
        "id": "cet5IIY-QLxG"
      },
      "execution_count": null,
      "outputs": []
    },
    {
      "cell_type": "code",
      "source": [
        "from flask_ngrok import run_with_ngrok\n"
      ],
      "metadata": {
        "id": "Ls4zBWlL7YFz"
      },
      "execution_count": null,
      "outputs": []
    },
    {
      "cell_type": "code",
      "source": [
        "run_with_ngrok(app)\n",
        "app.run()"
      ],
      "metadata": {
        "colab": {
          "base_uri": "https://localhost:8080/"
        },
        "id": "HhlogqRrKkYF",
        "outputId": "e3eddb93-a539-47c7-ca5b-ea8cfdd4bee2"
      },
      "execution_count": 74,
      "outputs": [
        {
          "output_type": "stream",
          "name": "stdout",
          "text": [
            " * Serving Flask app '__main__' (lazy loading)\n",
            " * Environment: production\n",
            "\u001b[31m   WARNING: This is a development server. Do not use it in a production deployment.\u001b[0m\n",
            "\u001b[2m   Use a production WSGI server instead.\u001b[0m\n",
            " * Debug mode: off\n"
          ]
        },
        {
          "output_type": "stream",
          "name": "stderr",
          "text": [
            "INFO:werkzeug: * Running on http://127.0.0.1:5000/ (Press CTRL+C to quit)\n"
          ]
        },
        {
          "output_type": "stream",
          "name": "stdout",
          "text": [
            " * Running on http://bd15-34-32-174-204.ngrok-free.app\n",
            " * Traffic stats available on http://127.0.0.1:4040\n"
          ]
        },
        {
          "output_type": "stream",
          "name": "stderr",
          "text": [
            "INFO:werkzeug:127.0.0.1 - - [11/Jun/2023 05:29:01] \"GET / HTTP/1.1\" 200 -\n",
            "INFO:werkzeug:127.0.0.1 - - [11/Jun/2023 05:29:02] \"GET /swaggerui/swagger-ui-bundle.js HTTP/1.1\" 200 -\n",
            "INFO:werkzeug:127.0.0.1 - - [11/Jun/2023 05:29:02] \"GET /swaggerui/droid-sans.css HTTP/1.1\" 200 -\n",
            "INFO:werkzeug:127.0.0.1 - - [11/Jun/2023 05:29:02] \"GET /swaggerui/swagger-ui-standalone-preset.js HTTP/1.1\" 200 -\n",
            "INFO:werkzeug:127.0.0.1 - - [11/Jun/2023 05:29:02] \"GET /swaggerui/swagger-ui.css HTTP/1.1\" 200 -\n",
            "INFO:werkzeug:127.0.0.1 - - [11/Jun/2023 05:29:05] \"GET /swaggerui/favicon-16x16.png HTTP/1.1\" 200 -\n",
            "INFO:werkzeug:127.0.0.1 - - [11/Jun/2023 05:29:05] \"GET /swagger.json HTTP/1.1\" 200 -\n"
          ]
        },
        {
          "output_type": "stream",
          "name": "stdout",
          "text": [
            "1/1 [==============================] - 0s 456ms/step\n"
          ]
        },
        {
          "output_type": "stream",
          "name": "stderr",
          "text": [
            "INFO:werkzeug:127.0.0.1 - - [11/Jun/2023 05:36:40] \"POST /Gender%20prediction%20from%20hand%20image/prediction HTTP/1.1\" 200 -\n"
          ]
        }
      ]
    },
    {
      "cell_type": "code",
      "source": [],
      "metadata": {
        "colab": {
          "base_uri": "https://localhost:8080/"
        },
        "id": "Xqe58wFHPVYT",
        "outputId": "2665d57d-31c8-4f97-929c-fcb73e57379c"
      },
      "execution_count": 34,
      "outputs": [
        {
          "output_type": "stream",
          "name": "stdout",
          "text": [
            "Looking in indexes: https://pypi.org/simple, https://us-python.pkg.dev/colab-wheels/public/simple/\n",
            "Collecting pyngrok==4.1.1\n",
            "  Downloading pyngrok-4.1.1.tar.gz (18 kB)\n",
            "  Preparing metadata (setup.py) ... \u001b[?25l\u001b[?25hdone\n",
            "Requirement already satisfied: future in /usr/local/lib/python3.10/dist-packages (from pyngrok==4.1.1) (0.18.3)\n",
            "Requirement already satisfied: PyYAML in /usr/local/lib/python3.10/dist-packages (from pyngrok==4.1.1) (6.0)\n",
            "Building wheels for collected packages: pyngrok\n",
            "  Building wheel for pyngrok (setup.py) ... \u001b[?25l\u001b[?25hdone\n",
            "  Created wheel for pyngrok: filename=pyngrok-4.1.1-py3-none-any.whl size=15963 sha256=5f343dcc397a886c53e1e49640d29d7cb0e2901b2df16453fb938030f0f5e407\n",
            "  Stored in directory: /root/.cache/pip/wheels/4c/7c/4c/632fba2ea8e88d8890102eb07bc922e1ca8fa14db5902c91a8\n",
            "Successfully built pyngrok\n",
            "Installing collected packages: pyngrok\n",
            "Successfully installed pyngrok-4.1.1\n",
            "Authtoken saved to configuration file: /root/.ngrok2/ngrok.yml\n"
          ]
        }
      ]
    },
    {
      "cell_type": "code",
      "source": [
        "  # from flask import Flask\n",
        "  # from flask_ngrok import run_with_ngrok\n",
        "\n",
        "  # app = Flask(__name__)\n",
        "  # run_with_ngrok(app)  # Start ngrok when app is run\n",
        "\n",
        "  # @app.route(\"/\")\n",
        "  # def hello():\n",
        "  #     return \"Hello World!\"\n",
        "\n",
        "  # if __name__ == '__main__':\n",
        "  #     app.run()"
      ],
      "metadata": {
        "colab": {
          "base_uri": "https://localhost:8080/"
        },
        "id": "M8y76uDQOfdP",
        "outputId": "454d7f80-2273-45d9-a196-75e17527f1ba"
      },
      "execution_count": 56,
      "outputs": [
        {
          "output_type": "stream",
          "name": "stdout",
          "text": [
            " * Serving Flask app '__main__' (lazy loading)\n",
            " * Environment: production\n",
            "\u001b[31m   WARNING: This is a development server. Do not use it in a production deployment.\u001b[0m\n",
            "\u001b[2m   Use a production WSGI server instead.\u001b[0m\n",
            " * Debug mode: off\n"
          ]
        },
        {
          "output_type": "stream",
          "name": "stderr",
          "text": [
            "INFO:werkzeug: * Running on http://127.0.0.1:5000/ (Press CTRL+C to quit)\n"
          ]
        },
        {
          "output_type": "stream",
          "name": "stdout",
          "text": [
            " * Running on http://39d9-34-32-174-204.ngrok-free.app\n",
            " * Traffic stats available on http://127.0.0.1:4040\n"
          ]
        },
        {
          "output_type": "stream",
          "name": "stderr",
          "text": [
            "INFO:werkzeug:127.0.0.1 - - [11/Jun/2023 02:48:37] \"GET / HTTP/1.1\" 200 -\n",
            "INFO:werkzeug:127.0.0.1 - - [11/Jun/2023 02:48:37] \"\u001b[33mGET /favicon.ico HTTP/1.1\u001b[0m\" 404 -\n"
          ]
        }
      ]
    },
    {
      "cell_type": "code",
      "source": [],
      "metadata": {
        "id": "V0inqdfqGbJx"
      },
      "execution_count": null,
      "outputs": []
    },
    {
      "cell_type": "code",
      "source": [],
      "metadata": {
        "id": "S0aFpSvUGbRc"
      },
      "execution_count": null,
      "outputs": []
    },
    {
      "cell_type": "code",
      "source": [],
      "metadata": {
        "id": "-A8jS67HGbXs"
      },
      "execution_count": null,
      "outputs": []
    },
    {
      "cell_type": "markdown",
      "source": [
        "### OTHER THINGS"
      ],
      "metadata": {
        "id": "dQv1zWKQdBb3"
      }
    },
    {
      "cell_type": "code",
      "source": [
        "with open(f'{drive_project_folder_path}/models/{model_name}_info.txt','a') as f:\n",
        "    f.write(f'''\n",
        "        m_2023-06-03-1415 model\n",
        "        trained on small_train using .take(100)\n",
        "        aimed for 100 epochs\n",
        "        accuracy seems to be stuck at 65% after 68 epochs\n",
        "        so trying to not use reducelearningrate_on_plateau and start with default adam\n",
        "        learning rate (probably 0.001) - did 13 more epochs with that but still no improvement\n",
        "        Saved with total 81 epoch model\n",
        "        loaded that saved model ; now let's train with SGD as optimizer [[2023-06-03]]-2143-52\n",
        "        trained 10 epochs with sgd as optimizer; and saved the model as m_2023-06-03-1415_model [[2023-06-03]]-2159-55\n",
        "\n",
        "        reduced the batch size to 8 [[2023-06-03]]-2206-07 and added the lr plateau callback \n",
        "\n",
        "        OVERNIGHT TRAINING COMPLETE {datetime.now()}\n",
        "\n",
        "    ''')"
      ],
      "metadata": {
        "id": "aE40arYXP190"
      },
      "execution_count": null,
      "outputs": []
    },
    {
      "cell_type": "code",
      "source": [
        "clear_gdrive_trash()\n",
        "from keras.optimizers import SGD, Adam,RMSprop\n",
        "final_model.compile(\n",
        "    optimizer=RMSprop(0.01),\n",
        "    # optimizer=RMSprop(lr=0.01),\n",
        "\n",
        "    # optimizer=SGD(lr=0.01),\n",
        "    # optimizer=Adam(lr=0.001),\n",
        "\n",
        "    loss=\"binary_crossentropy\",\n",
        "    metrics=[\"accuracy\"]\n",
        ")\n",
        "# callbacks_list=[backup_callback,reduce_lr_plateau,model_checkpoint_callback,csvlogger_callback]\n",
        "callbacks_list=[reduce_lr_plateau,model_checkpoint_callback,csvlogger_callback]\n",
        "# callbacks_list=[model_checkpoint_callback,csvlogger_callback]\n",
        "# callbacks_list=[csvlogger_callback]\n",
        "with open(f'{drive_project_folder_path}/models/{model_name}_info.txt','a') as f:\n",
        "    f.write(f'''\n",
        "        m_2023-06-03-1415 model\n",
        "        trained on small_train using .take(100)\n",
        "        aimed for 100 epochs\n",
        "        accuracy seems to be stuck at 65% after 68 epochs\n",
        "        so trying to not use reducelearningrate_on_plateau and start with default adam\n",
        "        learning rate (probably 0.001) - did 13 more epochs with that but still no improvement\n",
        "        Saved with total 81 epoch model\n",
        "        loaded that saved model ; now let's train with SGD as optimizer [[2023-06-03]]-2143-52\n",
        "        trained 10 epochs with sgd as optimizer; and saved the model as m_2023-06-03-1415_model [[2023-06-03]]-2159-55\n",
        "\n",
        "        reduced the batch size to 8 [[2023-06-03]]-2206-07 and added the lr plateau callback \n",
        "\n",
        "        OVERNIGHT TRAINING COMPLETE \n",
        "        \n",
        "        {datetime.now()} starting second phase rmsprop ; start from lr=0.01 ;with lrplateau; 100 epochs\n",
        "      \n",
        "\n",
        "    ''')\n",
        "# callbacks_list=[]\n",
        "final_model.fit(\n",
        "    # train_img_set_tfds,\n",
        "    small_train,\n",
        "    # y=y_gen_enc,\n",
        "    epochs=100,\n",
        "    validation_data=test_img_set_tfds,\n",
        "    # batch_size=5,\n",
        "    class_weight={0:(1/3967), 1:(1/7109)},\n",
        "    callbacks=[callbacks_list]\n",
        ")\n"
      ],
      "metadata": {
        "colab": {
          "base_uri": "https://localhost:8080/"
        },
        "id": "9vo-oJOeSA81",
        "outputId": "99262913-92a8-4074-bd49-438b8a7dc037"
      },
      "execution_count": null,
      "outputs": [
        {
          "output_type": "stream",
          "name": "stdout",
          "text": [
            "0\n",
            "Epoch 1/100\n",
            "400/400 [==============================] - 108s 229ms/step - loss: 1.7744e-04 - accuracy: 0.5525 - val_loss: 0.6986 - val_accuracy: 0.3670 - lr: 0.0100\n",
            "Epoch 2/100\n",
            "400/400 [==============================] - 90s 225ms/step - loss: 1.2736e-04 - accuracy: 0.5587 - val_loss: 0.6888 - val_accuracy: 0.6330 - lr: 0.0100\n",
            "Epoch 3/100\n",
            "400/400 [==============================] - 90s 225ms/step - loss: 1.2457e-04 - accuracy: 0.5878 - val_loss: 0.6888 - val_accuracy: 0.6330 - lr: 0.0100\n",
            "Epoch 4/100\n",
            "400/400 [==============================] - 91s 226ms/step - loss: 1.2453e-04 - accuracy: 0.5953 - val_loss: 0.6889 - val_accuracy: 0.6330 - lr: 0.0100\n",
            "Epoch 5/100\n",
            "400/400 [==============================] - 91s 225ms/step - loss: 1.2461e-04 - accuracy: 0.6094 - val_loss: 0.6916 - val_accuracy: 0.6330 - lr: 0.0100\n",
            "Epoch 6/100\n",
            "400/400 [==============================] - 90s 225ms/step - loss: 1.2462e-04 - accuracy: 0.5725 - val_loss: 0.6911 - val_accuracy: 0.6330 - lr: 0.0100\n",
            "Epoch 7/100\n",
            "400/400 [==============================] - 96s 240ms/step - loss: 1.2450e-04 - accuracy: 0.5959 - val_loss: 0.6863 - val_accuracy: 0.6330 - lr: 0.0100\n",
            "Epoch 8/100\n",
            "400/400 [==============================] - 91s 226ms/step - loss: 1.2443e-04 - accuracy: 0.6303 - val_loss: 0.6855 - val_accuracy: 0.6330 - lr: 0.0100\n",
            "Epoch 9/100\n",
            "400/400 [==============================] - 96s 241ms/step - loss: 1.2465e-04 - accuracy: 0.6119 - val_loss: 0.6885 - val_accuracy: 0.6330 - lr: 0.0100\n",
            "Epoch 10/100\n",
            "400/400 [==============================] - 90s 225ms/step - loss: 1.2461e-04 - accuracy: 0.6166 - val_loss: 0.6897 - val_accuracy: 0.6330 - lr: 0.0100\n",
            "Epoch 11/100\n",
            "400/400 [==============================] - 91s 226ms/step - loss: 1.2464e-04 - accuracy: 0.6103 - val_loss: 0.6933 - val_accuracy: 0.3670 - lr: 0.0100\n",
            "Epoch 12/100\n",
            "400/400 [==============================] - 90s 225ms/step - loss: 1.2454e-04 - accuracy: 0.5772 - val_loss: 0.6894 - val_accuracy: 0.6330 - lr: 0.0100\n",
            "Epoch 13/100\n",
            "400/400 [==============================] - 90s 224ms/step - loss: 1.2439e-04 - accuracy: 0.6178 - val_loss: 0.6843 - val_accuracy: 0.6330 - lr: 0.0100\n",
            "Epoch 14/100\n",
            "400/400 [==============================] - 97s 241ms/step - loss: 1.2451e-04 - accuracy: 0.6241 - val_loss: 0.6861 - val_accuracy: 0.6330 - lr: 0.0100\n",
            "Epoch 15/100\n",
            "400/400 [==============================] - 90s 225ms/step - loss: 1.2457e-04 - accuracy: 0.6181 - val_loss: 0.6901 - val_accuracy: 0.6330 - lr: 0.0100\n",
            "Epoch 16/100\n",
            "400/400 [==============================] - 91s 226ms/step - loss: 1.2457e-04 - accuracy: 0.5738 - val_loss: 0.6910 - val_accuracy: 0.6330 - lr: 0.0100\n",
            "Epoch 17/100\n",
            "400/400 [==============================] - 90s 225ms/step - loss: 1.2460e-04 - accuracy: 0.5878 - val_loss: 0.6916 - val_accuracy: 0.6330 - lr: 0.0100\n",
            "Epoch 18/100\n",
            "400/400 [==============================] - 91s 226ms/step - loss: 1.2454e-04 - accuracy: 0.6084 - val_loss: 0.6865 - val_accuracy: 0.6330 - lr: 0.0100\n",
            "Epoch 19/100\n",
            " 98/400 [======>.......................] - ETA: 56s - loss: 1.2505e-04 - accuracy: 0.6046"
          ]
        }
      ]
    },
    {
      "cell_type": "code",
      "source": [
        "final_model.save(f'{drive_project_folder_path}/models/{model_name}_model_second_phase')"
      ],
      "metadata": {
        "id": "OSxVFjzQSjMI"
      },
      "execution_count": null,
      "outputs": []
    },
    {
      "cell_type": "code",
      "execution_count": null,
      "metadata": {
        "id": "O27wMeu68Bib"
      },
      "outputs": [],
      "source": [
        "# print(f'{drive_project_folder_path}/models/new_architecture')"
      ]
    },
    {
      "cell_type": "code",
      "execution_count": null,
      "metadata": {
        "id": "rgZCWm_JRNTD"
      },
      "outputs": [],
      "source": [
        "# ! du -sh '/content/drive/MyDrive/ML-AI_capstone_project/models/new_architecture' | awk '{print $1}'"
      ]
    },
    {
      "cell_type": "code",
      "execution_count": null,
      "metadata": {
        "id": "epalUZCDRNV5"
      },
      "outputs": [],
      "source": [
        "# col_val_list_in_order_file_names_dict['id']"
      ]
    },
    {
      "cell_type": "markdown",
      "source": [
        "### Navoneel"
      ],
      "metadata": {
        "id": "M0rzzUHph5Tp"
      }
    },
    {
      "cell_type": "code",
      "source": [
        "# img_resize_shape=(240,320)\n",
        "img_resize_shape=(1000,1000)\n",
        "img_size_tuple=(img_resize_shape[0],img_resize_shape[1],num_channels)\n",
        "\n",
        "test_fraction=0.2\n",
        "seed=12\n",
        "train_img_set_tfds, test_img_set_tfds=image_dataset_from_directory(\n",
        "    dataset_dir_path,\n",
        "    labels=y_gen_enc_np.flatten().tolist(),\n",
        "    # labels=None,\n",
        "\n",
        "    validation_split=test_fraction,\n",
        "    subset='both',\n",
        "    seed=seed,\n",
        "    image_size=img_resize_shape,\n",
        "    batch_size=32\n",
        "    )"
      ],
      "metadata": {
        "id": "86jYZoYCirCo"
      },
      "execution_count": null,
      "outputs": []
    },
    {
      "cell_type": "code",
      "execution_count": null,
      "metadata": {
        "id": "3VebYV4e5lCd"
      },
      "outputs": [],
      "source": [
        "\n",
        "def net_for_feature_extraction(img_size_tuple):\n",
        "    input_layer=Input(shape=img_size_tuple )\n",
        "\n",
        "    ## to convert images to grayscale\n",
        "    # import keras_cv\n",
        "    # keras_cv.layers.Grayscale(output_channels=1) ## see https://keras.io/api/keras_cv/layers/preprocessing/grayscale/\n",
        "\n",
        "\n",
        "    data_augmentation = Sequential( ### see https://keras.io/api/layers/preprocessing_layers/image_augmentation/\n",
        "        [\n",
        "            RandomFlip(\"horizontal\"),\n",
        "            RandomRotation(0.1),\n",
        "            # keras.layers.RandomCrop( height=120,width=100) ## not good might cut off fingers when cropping\n",
        "            # keras.layers.RandomZoom(height=(-0.3,0.3)) ## won't help in basic learning ; required only when trying to learn random internet images\n",
        "\n",
        "        ]\n",
        "    ) ## see https://keras.io/examples/vision/image_classification_from_scratch/\n",
        "    x=data_augmentation(input_layer)\n",
        "    x = Rescaling(1./255)(x)\n",
        "\n",
        "    '''\n",
        "    x= Conv2D(32, (3, 3), padding=\"same\",activation='relu')(x)\n",
        "    x= MaxPooling2D(pool_size=(2, 2))(x)\n",
        "    x= MaxPooling2D(pool_size=(3, 3))(x)\n",
        "\n",
        "    # x=keras.layers.BatchNormalization()(x)\n",
        "    x= Conv2D(32, (3, 3), padding=\"same\",activation='relu')(x)\n",
        "    '''\n",
        "    x= Conv2D(32, (3, 3), padding=\"same\",activation='relu',strides=(3,3))(x)\n",
        "    x= MaxPooling2D(pool_size=(2, 2))(x)\n",
        "    x= Conv2D(32, (3, 3), padding=\"same\",activation='relu',strides=(3,3))(x)\n",
        "    x= MaxPooling2D(pool_size=(2, 2))(x)\n",
        "    x= Conv2D(32, (3, 3), padding=\"same\",activation='relu',strides=(3,3))(x)\n",
        "    x= MaxPooling2D(pool_size=(2, 2))(x)\n",
        "    # x= Dropout(512/800)(x)\n",
        "    x= Flatten()(x)\n",
        "\n",
        "\n",
        "\n",
        "    # x= MaxPooling2D(pool_size=(2, 2))(x)\n",
        "\n",
        "\n",
        "\n",
        "    # conv_nodes=(16,32,64)\n",
        "    # ##see  https://pyimagesearch.com/2019/02/04/keras-multiple-inputs-and-mixed-data/\n",
        "    # for f in conv_nodes:\n",
        "    #     x= Conv2D(f, (3, 3), padding=\"same\",activation='relu')(x)\n",
        "    #     # x = Activation(\"relu\")(x)\n",
        "    #     # x = BatchNormalization(axis=chanDim)(x)\n",
        "    #     x= MaxPooling2D(pool_size=(3, 3))(x)\n",
        "    #     # x= Dropout(0.2)(x)\n",
        "    # x= Flatten()(x)\n",
        "    # x = Dense(32,activation='relu')(x)\n",
        "\n",
        "    # x= Dense(16,activation='relu')(x)\n",
        "\n",
        "    # x =Dense(4,activation='relu')(x)\n",
        "    img_net=Model(inputs=[input_layer],outputs=x)\n",
        "    return img_net \n",
        "# navoneel_model=net_for_feature_extraction(img_size_tuple)\n",
        "# navoneel_model.summary()"
      ]
    },
    {
      "cell_type": "code",
      "source": [
        "\n",
        "### training\n",
        "from keras.optimizers import SGD, Adam,RMSprop\n",
        "navoneel_model.compile(\n",
        "    optimizer=Adam(),\n",
        "    # optimizer=RMSprop(lr=0.01),\n",
        "\n",
        "    # optimizer=SGD(lr=0.01),\n",
        "    # optimizer=Adam(lr=0.001),\n",
        "\n",
        "    loss=\"binary_crossentropy\",\n",
        "    metrics=[\"accuracy\"]\n",
        ")"
      ],
      "metadata": {
        "id": "MivWmEmYYAzE"
      },
      "execution_count": null,
      "outputs": []
    },
    {
      "cell_type": "code",
      "source": [
        "callbacks_list=[csvlogger_callback]\n",
        "\n",
        "# callbacks_list=[]\n",
        "navoneel_model.fit(\n",
        "    # train_img_set_tfds,\n",
        "    small_train,\n",
        "    # y=y_gen_enc,\n",
        "    epochs=50,\n",
        "    # validation_data=test_img_set_tfds,\n",
        "    # batch_size=5,\n",
        "    class_weight={0:(1/3967), 1:(1/7109)},\n",
        "    callbacks=[callbacks_list]\n",
        ")\n",
        "clear_gdrive_trash()"
      ],
      "metadata": {
        "id": "8BRdp9hDRFnd"
      },
      "execution_count": null,
      "outputs": []
    }
  ],
  "metadata": {
    "colab": {
      "provenance": [],
      "gpuType": "T4",
      "collapsed_sections": [
        "evdy3llVA4-v"
      ]
    },
    "kernelspec": {
      "display_name": "Python 3",
      "name": "python3"
    },
    "language_info": {
      "name": "python"
    }
  },
  "nbformat": 4,
  "nbformat_minor": 0
}